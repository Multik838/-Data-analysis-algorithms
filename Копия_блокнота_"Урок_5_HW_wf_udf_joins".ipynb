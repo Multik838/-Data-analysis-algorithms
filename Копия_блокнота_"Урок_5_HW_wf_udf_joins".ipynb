{
  "nbformat": 4,
  "nbformat_minor": 0,
  "metadata": {
    "colab": {
      "name": "Копия блокнота \"Урок 5. HW. wf_udf_joins\"",
      "provenance": [],
      "collapsed_sections": [],
      "include_colab_link": true
    },
    "kernelspec": {
      "name": "python3",
      "display_name": "Python 3"
    },
    "language_info": {
      "name": "python"
    }
  },
  "cells": [
    {
      "cell_type": "markdown",
      "metadata": {
        "id": "view-in-github",
        "colab_type": "text"
      },
      "source": [
        "<a href=\"https://colab.research.google.com/github/Multik838/-Data-analysis-algorithms/blob/main/%D0%9A%D0%BE%D0%BF%D0%B8%D1%8F_%D0%B1%D0%BB%D0%BE%D0%BA%D0%BD%D0%BE%D1%82%D0%B0_%22%D0%A3%D1%80%D0%BE%D0%BA_5_HW_wf_udf_joins%22.ipynb\" target=\"_parent\"><img src=\"https://colab.research.google.com/assets/colab-badge.svg\" alt=\"Open In Colab\"/></a>"
      ]
    },
    {
      "cell_type": "code",
      "metadata": {
        "colab": {
          "base_uri": "https://localhost:8080/"
        },
        "id": "W5AsCKO5Nqsh",
        "outputId": "dced5d31-6774-416e-8fa4-64da0c411a72"
      },
      "source": [
        "!pip install pyspark"
      ],
      "execution_count": 1,
      "outputs": [
        {
          "output_type": "stream",
          "name": "stdout",
          "text": [
            "Looking in indexes: https://pypi.org/simple, https://us-python.pkg.dev/colab-wheels/public/simple/\n",
            "Collecting pyspark\n",
            "  Downloading pyspark-3.2.1.tar.gz (281.4 MB)\n",
            "\u001b[K     |████████████████████████████████| 281.4 MB 33 kB/s \n",
            "\u001b[?25hCollecting py4j==0.10.9.3\n",
            "  Downloading py4j-0.10.9.3-py2.py3-none-any.whl (198 kB)\n",
            "\u001b[K     |████████████████████████████████| 198 kB 51.1 MB/s \n",
            "\u001b[?25hBuilding wheels for collected packages: pyspark\n",
            "  Building wheel for pyspark (setup.py) ... \u001b[?25l\u001b[?25hdone\n",
            "  Created wheel for pyspark: filename=pyspark-3.2.1-py2.py3-none-any.whl size=281853642 sha256=ad3152e040cc3ae029474f82057b986220310be07cf4264ea04480eb3cfc40f7\n",
            "  Stored in directory: /root/.cache/pip/wheels/9f/f5/07/7cd8017084dce4e93e84e92efd1e1d5334db05f2e83bcef74f\n",
            "Successfully built pyspark\n",
            "Installing collected packages: py4j, pyspark\n",
            "Successfully installed py4j-0.10.9.3 pyspark-3.2.1\n"
          ]
        }
      ]
    },
    {
      "cell_type": "code",
      "metadata": {
        "id": "E3Q9g_UyNxS6"
      },
      "source": [
        "from pyspark.sql import SparkSession\n",
        "\n",
        "spark = SparkSession.builder\\\n",
        "    .master(\"local[2]\")\\\n",
        "    .appName(\"Lesson_2\")\\\n",
        "    .config(\"spark.executor.instances\",2)\\\n",
        "    .config(\"spark.executor.memory\",'2g')\\\n",
        "    .config(\"spark.executor.cores\",1)\\\n",
        "    .getOrCreate()\n",
        "sc = spark.sparkContext"
      ],
      "execution_count": 2,
      "outputs": []
    },
    {
      "cell_type": "markdown",
      "metadata": {
        "id": "dVGNGR7pN1KC"
      },
      "source": [
        "# Самостоятельная работа к уроку 3\n",
        "На уроке мы попробовали оконные и пользовательские функции. Теперь закрепим полученные знания."
      ]
    },
    {
      "cell_type": "markdown",
      "metadata": {
        "id": "agigNChqOHnK"
      },
      "source": [
        "## Данные: [google drive: raw_sales.csv](https://drive.google.com/file/d/1G2N7Mnt4-Tqz4JdJxutGDMbJiOr32kZp/view?usp=sharing)\n",
        "\n",
        " Каждая строчка это продажа жилья, которая состоит из следующих полей (думаю описание не требуется):\n",
        "*   date of sale\n",
        "*   price\n",
        "*   property type\n",
        "*   number of bedrooms\n",
        "*   4digit postcode"
      ]
    },
    {
      "cell_type": "code",
      "source": [
        "from google.colab import drive\n",
        "drive.mount('/content/drive')\n",
        "\n",
        "raw_sales = spark.read.format('csv').option('header', 'True').load('/content/raw_sales.csv') "
      ],
      "metadata": {
        "id": "H2fVbiqQfS5x",
        "outputId": "3fc7ca96-e80a-4ba0-ad6a-b23ff6def5d1",
        "colab": {
          "base_uri": "https://localhost:8080/"
        }
      },
      "execution_count": 3,
      "outputs": [
        {
          "output_type": "stream",
          "name": "stdout",
          "text": [
            "Mounted at /content/drive\n"
          ]
        }
      ]
    },
    {
      "cell_type": "code",
      "source": [
        "#df = spark.read.csv('raw_sales.csv', inferShema=True, header=True)"
      ],
      "metadata": {
        "id": "KglOJh8xClkz"
      },
      "execution_count": 4,
      "outputs": []
    },
    {
      "cell_type": "code",
      "source": [
        "raw_sales.show(1)"
      ],
      "metadata": {
        "id": "7rsiJA9jft5i",
        "outputId": "8223c6ec-542c-4e4a-d57c-6ac64c1e3534",
        "colab": {
          "base_uri": "https://localhost:8080/"
        }
      },
      "execution_count": 5,
      "outputs": [
        {
          "output_type": "stream",
          "name": "stdout",
          "text": [
            "+-------------------+--------+------+------------+--------+\n",
            "|           datesold|postcode| price|propertyType|bedrooms|\n",
            "+-------------------+--------+------+------------+--------+\n",
            "|2007-02-07 00:00:00|    2607|525000|       house|       4|\n",
            "+-------------------+--------+------+------------+--------+\n",
            "only showing top 1 row\n",
            "\n"
          ]
        }
      ]
    },
    {
      "cell_type": "code",
      "source": [
        "#Импортируем необходимые библиотеки\n",
        "import pyspark.sql.functions as F\n",
        "from pyspark.sql import Window\n",
        "from pyspark.sql.types import *\n",
        "from pyspark.sql.functions import max as max_"
      ],
      "metadata": {
        "id": "GFjfzhpngAq2"
      },
      "execution_count": 15,
      "outputs": []
    },
    {
      "cell_type": "code",
      "source": [
        "#F.lit()"
      ],
      "metadata": {
        "id": "X8OLauLygA0W"
      },
      "execution_count": null,
      "outputs": []
    },
    {
      "cell_type": "markdown",
      "metadata": {
        "id": "xisyFowtQgx-"
      },
      "source": [
        "## Задание 1\n",
        "Добавьте к таблице следующие поля:\n",
        "*  Средняя стомость 10 проданных домов до текущего в том же районе (4digit postcode) (1 балл)\n",
        "*  Средняя стомость 10 проданных домов после текущего в том же районе (4digit postcode) (1 балл)\n",
        "*  Стоимость последнего проданного дома до текущего (1 балл)\n"
      ]
    },
    {
      "cell_type": "code",
      "metadata": {
        "id": "NsUKEiRTUOtT"
      },
      "source": [
        "windSpec_10before = Window()\\\n",
        "    .partitionBy('postcode')\\\n",
        "    .orderBy('datesold') \\\n",
        "    .rowsBetween(Window.currentRow - 11, Window.currentRow - 1)"
      ],
      "execution_count": 16,
      "outputs": []
    },
    {
      "cell_type": "code",
      "source": [
        "raw_sales.withColumn('Средняя стомость 10 проданных домов до текущего в том же районе', F.avg('price').over(windSpec_10before)).show()"
      ],
      "metadata": {
        "id": "0GQUC01AD6G_",
        "outputId": "ac101ba6-6e39-457e-e5d7-d0fe1de2c52e",
        "colab": {
          "base_uri": "https://localhost:8080/"
        }
      },
      "execution_count": 17,
      "outputs": [
        {
          "output_type": "stream",
          "name": "stdout",
          "text": [
            "+-------------------+--------+-------+------------+--------+---------------------------------------------------------------+\n",
            "|           datesold|postcode|  price|propertyType|bedrooms|Средняя стомость 10 проданных домов до текущего в том же районе|\n",
            "+-------------------+--------+-------+------------+--------+---------------------------------------------------------------+\n",
            "|2007-07-08 00:00:00|    2600| 327000|       house|       1|                                                           null|\n",
            "|2007-08-16 00:00:00|    2600| 790000|       house|       4|                                                       327000.0|\n",
            "|2007-12-05 00:00:00|    2600| 825000|       house|       3|                                                       558500.0|\n",
            "|2008-01-21 00:00:00|    2600| 315000|        unit|       1|                                              647333.3333333334|\n",
            "|2008-04-24 00:00:00|    2600| 292500|       house|       1|                                                       564250.0|\n",
            "|2008-05-30 00:00:00|    2600| 329000|        unit|       2|                                                       509900.0|\n",
            "|2008-06-19 00:00:00|    2600| 765000|       house|       5|                                                       479750.0|\n",
            "|2008-07-29 00:00:00|    2600| 927000|       house|       4|                                                       520500.0|\n",
            "|2008-09-02 00:00:00|    2600|1380000|       house|       5|                                                       571312.5|\n",
            "|2008-09-08 00:00:00|    2600| 740000|       house|       3|                                              661166.6666666666|\n",
            "|2008-09-17 00:00:00|    2600| 720000|       house|       3|                                                       669050.0|\n",
            "|2008-09-22 00:00:00|    2600| 690000|       house|       4|                                              673681.8181818182|\n",
            "|2008-11-18 00:00:00|    2600| 635000|       house|       3|                                              706681.8181818182|\n",
            "|2008-11-18 00:00:00|    2600| 950000|       house|       3|                                              692590.9090909091|\n",
            "|2008-11-21 00:00:00|    2600| 730000|       house|       3|                                              703954.5454545454|\n",
            "|2008-12-22 00:00:00|    2600| 855000|       house|       3|                                              741681.8181818182|\n",
            "|2008-12-24 00:00:00|    2600|1057500|       house|       4|                                              792818.1818181818|\n",
            "|2009-01-06 00:00:00|    2600| 300000|        unit|       2|                                              859045.4545454546|\n",
            "|2009-01-12 00:00:00|    2600| 475000|        unit|       2|                                              816772.7272727273|\n",
            "|2009-01-20 00:00:00|    2600|1150000|       house|       4|                                              775681.8181818182|\n",
            "+-------------------+--------+-------+------------+--------+---------------------------------------------------------------+\n",
            "only showing top 20 rows\n",
            "\n"
          ]
        }
      ]
    },
    {
      "cell_type": "code",
      "source": [
        "windSpec_10after = Window()\\\n",
        "    .partitionBy('postcode')\\\n",
        "    .orderBy('datesold') \\\n",
        "    .rowsBetween(Window.currentRow - 10, Window.currentRow - 0)"
      ],
      "metadata": {
        "id": "fqyrTNjfFmII"
      },
      "execution_count": 18,
      "outputs": []
    },
    {
      "cell_type": "code",
      "source": [
        "raw_sales.withColumn('Средняя стомость 10 проданных домов после текущего в том же районе', F.avg('price').over(windSpec_10after)).show()"
      ],
      "metadata": {
        "id": "j6cWG_GUF0cp",
        "outputId": "bc1be1dc-106c-4ce6-81c3-80363ec5fb86",
        "colab": {
          "base_uri": "https://localhost:8080/"
        }
      },
      "execution_count": 19,
      "outputs": [
        {
          "output_type": "stream",
          "name": "stdout",
          "text": [
            "+-------------------+--------+-------+------------+--------+------------------------------------------------------------------+\n",
            "|           datesold|postcode|  price|propertyType|bedrooms|Средняя стомость 10 проданных домов после текущего в том же районе|\n",
            "+-------------------+--------+-------+------------+--------+------------------------------------------------------------------+\n",
            "|2007-07-08 00:00:00|    2600| 327000|       house|       1|                                                          327000.0|\n",
            "|2007-08-16 00:00:00|    2600| 790000|       house|       4|                                                          558500.0|\n",
            "|2007-12-05 00:00:00|    2600| 825000|       house|       3|                                                 647333.3333333334|\n",
            "|2008-01-21 00:00:00|    2600| 315000|        unit|       1|                                                          564250.0|\n",
            "|2008-04-24 00:00:00|    2600| 292500|       house|       1|                                                          509900.0|\n",
            "|2008-05-30 00:00:00|    2600| 329000|        unit|       2|                                                          479750.0|\n",
            "|2008-06-19 00:00:00|    2600| 765000|       house|       5|                                                          520500.0|\n",
            "|2008-07-29 00:00:00|    2600| 927000|       house|       4|                                                          571312.5|\n",
            "|2008-09-02 00:00:00|    2600|1380000|       house|       5|                                                 661166.6666666666|\n",
            "|2008-09-08 00:00:00|    2600| 740000|       house|       3|                                                          669050.0|\n",
            "|2008-09-17 00:00:00|    2600| 720000|       house|       3|                                                 673681.8181818182|\n",
            "|2008-09-22 00:00:00|    2600| 690000|       house|       4|                                                 706681.8181818182|\n",
            "|2008-11-18 00:00:00|    2600| 635000|       house|       3|                                                 692590.9090909091|\n",
            "|2008-11-18 00:00:00|    2600| 950000|       house|       3|                                                 703954.5454545454|\n",
            "|2008-11-21 00:00:00|    2600| 730000|       house|       3|                                                 741681.8181818182|\n",
            "|2008-12-22 00:00:00|    2600| 855000|       house|       3|                                                 792818.1818181818|\n",
            "|2008-12-24 00:00:00|    2600|1057500|       house|       4|                                                 859045.4545454546|\n",
            "|2009-01-06 00:00:00|    2600| 300000|        unit|       2|                                                 816772.7272727273|\n",
            "|2009-01-12 00:00:00|    2600| 475000|        unit|       2|                                                 775681.8181818182|\n",
            "|2009-01-20 00:00:00|    2600|1150000|       house|       4|                                                 754772.7272727273|\n",
            "+-------------------+--------+-------+------------+--------+------------------------------------------------------------------+\n",
            "only showing top 20 rows\n",
            "\n"
          ]
        }
      ]
    },
    {
      "cell_type": "code",
      "source": [
        "#Ищем дату по типу собственности дом"
      ],
      "metadata": {
        "id": "5kLSztCFfEov"
      },
      "execution_count": 20,
      "outputs": []
    },
    {
      "cell_type": "code",
      "source": [
        "filter = (raw_sales.select('propertyType', 'datesold')\\\n",
        ".filter('propertyType = \"house\"')\\\n",
        ".groupBy('propertyType')\n",
        ".agg(max_('datesold')))\n",
        "\n",
        "filter.show()"
      ],
      "metadata": {
        "id": "MHGR_OmTcpbN",
        "outputId": "18f2f19d-5df6-4eec-801d-ac01e32da910",
        "colab": {
          "base_uri": "https://localhost:8080/"
        }
      },
      "execution_count": 21,
      "outputs": [
        {
          "output_type": "stream",
          "name": "stdout",
          "text": [
            "+------------+-------------------+\n",
            "|propertyType|      max(datesold)|\n",
            "+------------+-------------------+\n",
            "|       house|2019-07-27 00:00:00|\n",
            "+------------+-------------------+\n",
            "\n"
          ]
        }
      ]
    },
    {
      "cell_type": "code",
      "source": [
        "#Выводим район, цена, дата, тип собственности"
      ],
      "metadata": {
        "id": "jYcdbFnqfMPE"
      },
      "execution_count": 22,
      "outputs": []
    },
    {
      "cell_type": "code",
      "source": [
        "raw_sales.select('price', 'propertyType','datesold','postcode')\\\n",
        ".filter('propertyType = \"house\"')\\\n",
        ".filter('datesold = \"2019-07-27 00:00:00\"')\\\n",
        ".orderBy('postcode','price')\\\n",
        ".show()"
      ],
      "metadata": {
        "id": "79n4vUtMdwAF",
        "outputId": "0095216a-1ae6-42cc-900b-d9ab4636c2e1",
        "colab": {
          "base_uri": "https://localhost:8080/"
        }
      },
      "execution_count": 23,
      "outputs": [
        {
          "output_type": "stream",
          "name": "stdout",
          "text": [
            "+------+------------+-------------------+--------+\n",
            "| price|propertyType|           datesold|postcode|\n",
            "+------+------------+-------------------+--------+\n",
            "|647500|       house|2019-07-27 00:00:00|    2615|\n",
            "|610000|       house|2019-07-27 00:00:00|    2905|\n",
            "|865000|       house|2019-07-27 00:00:00|    2905|\n",
            "+------+------------+-------------------+--------+\n",
            "\n"
          ]
        }
      ]
    },
    {
      "cell_type": "markdown",
      "metadata": {
        "id": "SoKJ_YOBUQGL"
      },
      "source": [
        "## Задание 2\n",
        "Найдите среднюю цену жилья для каждого года и приджойните эти данные к таблице из задания 1. (2 балла)\n",
        "\n",
        "\n",
        "*(left join on a.year(date of sale) = b.year, где a - таблица из первого задания, а b таблица после группировки)*"
      ]
    },
    {
      "cell_type": "code",
      "source": [
        "df = spark.read.csv('raw_sales.csv', inferSchema=True, header=True)"
      ],
      "metadata": {
        "id": "LGNnXL57oxti"
      },
      "execution_count": 26,
      "outputs": []
    },
    {
      "cell_type": "code",
      "source": [
        "windSpec_10before = Window()\\\n",
        "    .partitionBy('postcode')\\\n",
        "    .orderBy('datesold') \\\n",
        "    .rowsBetween(Window.currentRow - 11, Window.currentRow - 1)\n",
        "\n",
        "df.withColumn('Средняя стомость 10 проданных домов до текущего в том же районе', F.avg('price').over(windSpec_10before)).show()"
      ],
      "metadata": {
        "id": "YP_Im1IvitYM",
        "outputId": "6d5da7e2-141b-4a14-8cf9-d6b4e4100592",
        "colab": {
          "base_uri": "https://localhost:8080/"
        }
      },
      "execution_count": 27,
      "outputs": [
        {
          "output_type": "stream",
          "name": "stdout",
          "text": [
            "+-------------------+--------+-------+------------+--------+---------------------------------------------------------------+\n",
            "|           datesold|postcode|  price|propertyType|bedrooms|Средняя стомость 10 проданных домов до текущего в том же районе|\n",
            "+-------------------+--------+-------+------------+--------+---------------------------------------------------------------+\n",
            "|2007-07-08 00:00:00|    2600| 327000|       house|       1|                                                           null|\n",
            "|2007-08-16 00:00:00|    2600| 790000|       house|       4|                                                       327000.0|\n",
            "|2007-12-05 00:00:00|    2600| 825000|       house|       3|                                                       558500.0|\n",
            "|2008-01-21 00:00:00|    2600| 315000|        unit|       1|                                              647333.3333333334|\n",
            "|2008-04-24 00:00:00|    2600| 292500|       house|       1|                                                       564250.0|\n",
            "|2008-05-30 00:00:00|    2600| 329000|        unit|       2|                                                       509900.0|\n",
            "|2008-06-19 00:00:00|    2600| 765000|       house|       5|                                                       479750.0|\n",
            "|2008-07-29 00:00:00|    2600| 927000|       house|       4|                                                       520500.0|\n",
            "|2008-09-02 00:00:00|    2600|1380000|       house|       5|                                                       571312.5|\n",
            "|2008-09-08 00:00:00|    2600| 740000|       house|       3|                                              661166.6666666666|\n",
            "|2008-09-17 00:00:00|    2600| 720000|       house|       3|                                                       669050.0|\n",
            "|2008-09-22 00:00:00|    2600| 690000|       house|       4|                                              673681.8181818182|\n",
            "|2008-11-18 00:00:00|    2600| 635000|       house|       3|                                              706681.8181818182|\n",
            "|2008-11-18 00:00:00|    2600| 950000|       house|       3|                                              692590.9090909091|\n",
            "|2008-11-21 00:00:00|    2600| 730000|       house|       3|                                              703954.5454545454|\n",
            "|2008-12-22 00:00:00|    2600| 855000|       house|       3|                                              741681.8181818182|\n",
            "|2008-12-24 00:00:00|    2600|1057500|       house|       4|                                              792818.1818181818|\n",
            "|2009-01-06 00:00:00|    2600| 300000|        unit|       2|                                              859045.4545454546|\n",
            "|2009-01-12 00:00:00|    2600| 475000|        unit|       2|                                              816772.7272727273|\n",
            "|2009-01-20 00:00:00|    2600|1150000|       house|       4|                                              775681.8181818182|\n",
            "+-------------------+--------+-------+------------+--------+---------------------------------------------------------------+\n",
            "only showing top 20 rows\n",
            "\n"
          ]
        }
      ]
    },
    {
      "cell_type": "code",
      "source": [
        "#И выводим среднюю и id\n",
        "\n",
        "\n",
        "df.groupBy(F.year('datesold')).avg().show()"
      ],
      "metadata": {
        "colab": {
          "base_uri": "https://localhost:8080/"
        },
        "id": "PnCniByJpKpj",
        "outputId": "d7db5820-ce7a-4565-86f7-b6075c421323"
      },
      "execution_count": 30,
      "outputs": [
        {
          "output_type": "stream",
          "name": "stdout",
          "text": [
            "+--------------+------------------+-----------------+------------------+\n",
            "|year(datesold)|     avg(postcode)|       avg(price)|     avg(bedrooms)|\n",
            "+--------------+------------------+-----------------+------------------+\n",
            "|          2007| 2737.292517006803|522377.2108843537| 3.292517006802721|\n",
            "|          2018|2725.8535510627266|660701.0427682737|3.0907205806117157|\n",
            "|          2015|  2722.73711622807|626101.3426535088|3.3209978070175437|\n",
            "|          2013| 2734.596979707409|553416.2968381312|3.2987258140632374|\n",
            "|          2014| 2727.868319944115|  592653.76143905|3.3709395738735592|\n",
            "|          2019| 2735.301805054152|634184.2187725632|  3.11913357400722|\n",
            "|          2012|2732.2093649085036|552501.3692142088| 3.279870828848224|\n",
            "|          2009| 2745.084852734923|496092.0329593268| 3.279102384291725|\n",
            "|          2016|2725.5798362333676|635185.3116683726|3.2315762538382806|\n",
            "|          2010|2744.0456591639872|559564.8102893891|  3.32540192926045|\n",
            "|          2011| 2738.410900183711|566715.1102265768|3.2927127985303124|\n",
            "|          2008|2734.7073552425663|493814.1627543036|3.3333333333333335|\n",
            "|          2017| 2727.996036115393| 671880.551420392| 3.210526315789474|\n",
            "+--------------+------------------+-----------------+------------------+\n",
            "\n"
          ]
        }
      ]
    },
    {
      "cell_type": "markdown",
      "metadata": {
        "id": "Qvh2x6_8YU3F"
      },
      "source": [
        "## Задание 3\n",
        "В итоге у вас таблица с колонками (или нечто похожее):\n",
        "*   price\n",
        "*   Среднегодовая цена\n",
        "*  Средняя стомость 10 проданных домов до текущего в том же районе (4digit postcode) (1 балл)\n",
        "*  Средняя стомость 10 проданных домов после текущего в том же районе (4digit postcode) (1 балл)\n",
        "*  Стоимость последнего проданного дома до текущего ((1 балл)\n",
        "*  и др.\n",
        "\n",
        "Посчитайте кол-во уникальных значений в каждой строчке (unique(row)). (2 балла)"
      ]
    },
    {
      "cell_type": "code",
      "metadata": {
        "id": "qFBmC9gvNyzl",
        "outputId": "ab0e2c62-d122-4bb7-a455-956f27cb83cb",
        "colab": {
          "base_uri": "https://localhost:8080/"
        }
      },
      "source": [
        ""
      ],
      "execution_count": 28,
      "outputs": [
        {
          "output_type": "stream",
          "name": "stdout",
          "text": [
            "+--------------+------------------+-----------------+------------------+\n",
            "|year(datesold)|     avg(postcode)|       avg(price)|     avg(bedrooms)|\n",
            "+--------------+------------------+-----------------+------------------+\n",
            "|          2007| 2737.292517006803|522377.2108843537| 3.292517006802721|\n",
            "|          2018|2725.8535510627266|660701.0427682737|3.0907205806117157|\n",
            "|          2015|  2722.73711622807|626101.3426535088|3.3209978070175437|\n",
            "|          2013| 2734.596979707409|553416.2968381312|3.2987258140632374|\n",
            "|          2014| 2727.868319944115|  592653.76143905|3.3709395738735592|\n",
            "|          2019| 2735.301805054152|634184.2187725632|  3.11913357400722|\n",
            "|          2012|2732.2093649085036|552501.3692142088| 3.279870828848224|\n",
            "|          2009| 2745.084852734923|496092.0329593268| 3.279102384291725|\n",
            "|          2016|2725.5798362333676|635185.3116683726|3.2315762538382806|\n",
            "|          2010|2744.0456591639872|559564.8102893891|  3.32540192926045|\n",
            "|          2011| 2738.410900183711|566715.1102265768|3.2927127985303124|\n",
            "|          2008|2734.7073552425663|493814.1627543036|3.3333333333333335|\n",
            "|          2017| 2727.996036115393| 671880.551420392| 3.210526315789474|\n",
            "+--------------+------------------+-----------------+------------------+\n",
            "\n"
          ]
        }
      ]
    }
  ]
}