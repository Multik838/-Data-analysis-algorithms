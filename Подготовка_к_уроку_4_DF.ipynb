{
  "nbformat": 4,
  "nbformat_minor": 0,
  "metadata": {
    "colab": {
      "name": "Подготовка к уроку 4. DF.ipynb",
      "provenance": [],
      "collapsed_sections": [],
      "include_colab_link": true
    },
    "kernelspec": {
      "name": "python3",
      "display_name": "Python 3"
    },
    "language_info": {
      "name": "python"
    }
  },
  "cells": [
    {
      "cell_type": "markdown",
      "metadata": {
        "id": "view-in-github",
        "colab_type": "text"
      },
      "source": [
        "<a href=\"https://colab.research.google.com/github/Multik838/-Data-analysis-algorithms/blob/main/%D0%9F%D0%BE%D0%B4%D0%B3%D0%BE%D1%82%D0%BE%D0%B2%D0%BA%D0%B0_%D0%BA_%D1%83%D1%80%D0%BE%D0%BA%D1%83_4_DF.ipynb\" target=\"_parent\"><img src=\"https://colab.research.google.com/assets/colab-badge.svg\" alt=\"Open In Colab\"/></a>"
      ]
    },
    {
      "cell_type": "code",
      "source": [
        "# Просмотрен весь ноутбук\n",
        "# Загружены Train и Test\n",
        "# Добавлен импорт import pyspark.sql.functions as F и переписана запись my_awesome_col = F.struct(F.col(\"id\")).alias(\"foo\")\n",
        "# #df.dropDuplicates(subset=[\"battery_power\", \"dual_sim\"]).show()\n",
        "\n",
        "#df.show() # Нам показывает, что в тек. датафрейме остался один столбец ID.\n",
        "# +---+\n",
        "# | id|\n",
        "# +---+\n",
        "# |  0|\n",
        "# |  1|\n",
        "# |  2|\n",
        "# |  3|\n",
        "# |  4|\n",
        "# |  5|\n",
        "# |  6|\n",
        "# |  7|\n",
        "# |  8|\n",
        "# |  9|\n",
        "# +---+\n",
        "\n",
        "#Поэтому перезапрашиваем df = spark.read.csv('train.csv', header=True, inferSchema=True), Либо JOIN \n",
        "#Drop Duplicates отработает"
      ],
      "metadata": {
        "id": "vY51jOj0kDFc"
      },
      "execution_count": 38,
      "outputs": []
    },
    {
      "cell_type": "code",
      "metadata": {
        "colab": {
          "base_uri": "https://localhost:8080/"
        },
        "id": "kqHm8RwfjSTw",
        "outputId": "77f599ed-fc74-481d-b9df-ba7bfb61949b"
      },
      "source": [
        "pip install pyspark"
      ],
      "execution_count": 1,
      "outputs": [
        {
          "output_type": "stream",
          "name": "stdout",
          "text": [
            "Collecting pyspark\n",
            "  Downloading pyspark-3.2.1.tar.gz (281.4 MB)\n",
            "\u001b[K     |████████████████████████████████| 281.4 MB 35 kB/s \n",
            "\u001b[?25hCollecting py4j==0.10.9.3\n",
            "  Downloading py4j-0.10.9.3-py2.py3-none-any.whl (198 kB)\n",
            "\u001b[K     |████████████████████████████████| 198 kB 62.6 MB/s \n",
            "\u001b[?25hBuilding wheels for collected packages: pyspark\n",
            "  Building wheel for pyspark (setup.py) ... \u001b[?25l\u001b[?25hdone\n",
            "  Created wheel for pyspark: filename=pyspark-3.2.1-py2.py3-none-any.whl size=281853642 sha256=971e9f1e53c87e62b378864679fb0e91776158d61a3ff527e707a87869561ed0\n",
            "  Stored in directory: /root/.cache/pip/wheels/9f/f5/07/7cd8017084dce4e93e84e92efd1e1d5334db05f2e83bcef74f\n",
            "Successfully built pyspark\n",
            "Installing collected packages: py4j, pyspark\n",
            "Successfully installed py4j-0.10.9.3 pyspark-3.2.1\n"
          ]
        }
      ]
    },
    {
      "cell_type": "code",
      "metadata": {
        "id": "idrMQH4dj605"
      },
      "source": [
        "from pyspark.sql import SparkSession\n",
        "\n",
        "\n",
        "spark = SparkSession.builder\\\n",
        "        .master('local[4]')\\\n",
        "        .appName('Lesson_2')\\\n",
        "        .config('spark.ui.port', '4050')\\\n",
        "        .config('spark.executor.instances', 2)\\\n",
        "        .config('spark.executor.memory', f'{int(6000/1.1)}mb')\\\n",
        "        .config('spark.executor.cores', 2)\\\n",
        "        .getOrCreate()\n",
        "\n",
        "sc = spark.sparkContext"
      ],
      "execution_count": 2,
      "outputs": []
    },
    {
      "cell_type": "code",
      "metadata": {
        "colab": {
          "base_uri": "https://localhost:8080/",
          "height": 219
        },
        "id": "ZfhfV3EWHzqB",
        "outputId": "4acaf6ec-ff34-430b-c0fc-d322bb031744"
      },
      "source": [
        "spark"
      ],
      "execution_count": 3,
      "outputs": [
        {
          "output_type": "execute_result",
          "data": {
            "text/plain": [
              "<pyspark.sql.session.SparkSession at 0x7f75a9592310>"
            ],
            "text/html": [
              "\n",
              "            <div>\n",
              "                <p><b>SparkSession - in-memory</b></p>\n",
              "                \n",
              "        <div>\n",
              "            <p><b>SparkContext</b></p>\n",
              "\n",
              "            <p><a href=\"http://b435a07c26f2:4050\">Spark UI</a></p>\n",
              "\n",
              "            <dl>\n",
              "              <dt>Version</dt>\n",
              "                <dd><code>v3.2.1</code></dd>\n",
              "              <dt>Master</dt>\n",
              "                <dd><code>local[4]</code></dd>\n",
              "              <dt>AppName</dt>\n",
              "                <dd><code>Lesson_2</code></dd>\n",
              "            </dl>\n",
              "        </div>\n",
              "        \n",
              "            </div>\n",
              "        "
            ]
          },
          "metadata": {},
          "execution_count": 3
        }
      ]
    },
    {
      "cell_type": "markdown",
      "source": [
        "## Ядро Spark `RDD`:\n",
        "  - Ядром Spark является абстракция данных под названием Resilient Distributed Datasets, которые являются отказоустойчивыми распределенными наборами данных\n",
        "  - RDD являются статически типизированными, распределенными колекциями с отложенным вычислением\n",
        "  - Наборы RDD реализованы в Spark как неизменяемые, так что преобразование объекта RDD возвращает новый объект, а не уже существующий.\n",
        "  - Имеют предопределенные высокоуровневые преобразования (aka map, join, reduce) \n",
        "  - Функции записи данных между распределенной системой хранения и JVM Spark\n",
        "  \n",
        "## Ленивые вычисления:\n",
        "  - Spark вычисляет RDD отложенным образом, рассчитывая результат преобразований набора только в момент, когда становятся необходимы итоговые данные RDD\n",
        "  - Spark умеет хранить RDD в оперативной памяти Worker-ов во время всего времени жизни приложения Spark ради ускорения доступа при повторяемых вычислениях\n",
        "  - **`Отложенные вычисления`** + **`хранения данных в оперативной памяти`** + **`неизменяемость объектов`** == **`эффективность`** + **`отказоустойчивость`** + **`масштабируемость`**"
      ],
      "metadata": {
        "id": "RtnA7fcjP0N-"
      }
    },
    {
      "cell_type": "markdown",
      "metadata": {
        "id": "I9mJRXP51FWO"
      },
      "source": [
        "# DataFrame"
      ]
    },
    {
      "cell_type": "markdown",
      "source": [
        "## Сравнение RDD API и DataFrame API \n",
        "\n",
        "### Типы данных\n",
        "**`RDD`**: низкоуревная распределенная коллекция данных любого типа  \n",
        "**`DF`**: таблица со схемой, состоящей из колонок разных типов, описанных в `org.apache.spark.sql.types`  \n",
        "\n",
        "### Обработка данных\n",
        "**`RDD`**: сериализуемые функции  \n",
        "**`DF`**: кодогенерация SQL > Java код  \n",
        "\n",
        "### Функции и алгоритмы\n",
        "**`RDD`**: нет ограничений  \n",
        "**`DF`**: ограничен SQL операторами, функциями `org.apache.spark.sql.functions` и пользовательскими функциями  \n",
        "\n",
        "### Источники данных \n",
        "**`RDD`**: каждый источник имеет свое API  \n",
        "**`DF`**: единое API для всех источников \n",
        "\n",
        "### Производительность\n",
        "**`RDD`**: напрямую зависит от качества кода   \n",
        "**`DF`**: встроенные механизмы оптимизации SQL запроса   \n",
        "\n",
        "### Потоковая обработка данных\n",
        "**`RDD`**: устаревший DStreams   \n",
        "**`DF`**: активно развивающийся Structured Streaming   "
      ],
      "metadata": {
        "id": "f1ed4FqPP3pj"
      }
    },
    {
      "cell_type": "markdown",
      "source": [
        "## Структура джобы Spark\n",
        "\n",
        "+ Spark **«ничего не делает»** до тех пор, пока драйверная программа не вызовет действие\n",
        "+ При каждом вызове действия планировщик Spark строит DAG выполнения и запускает задание Spark (Spark job)\n",
        "+ Джоба Spark состоит из этапов, представляющих собой шаги преобразования данных, необходимые для формирования итогового набора RDD.\n",
        "+ Этап состоит из набора tasks, каждая из которых означает параллельное вычисление, выполняемое на исполнителе."
      ],
      "metadata": {
        "id": "-p8ErF8NP7dG"
      }
    },
    {
      "cell_type": "markdown",
      "source": [
        "## Dataframe API\n",
        "\n",
        "**Dataframe:**\n",
        "+ структурированная колоночная структура данных\n",
        "+ может быть создана на основе:\n",
        "  - локальной коллекции\n",
        "  - файла (файлов)\n",
        "  - базы данных\n",
        "+ в python работает значительно быстрее, чем RDD\n",
        "+ под капотом использует RDD\n",
        "+ позволяет выполнять произвольные SQL операции с данными\n",
        "+ аналогично RDD являются ленивыми и неизменяеыми\n",
        "\n",
        "## Из чего состоит Dataframe\n",
        "+ схема [pyspsark.sql.StructType](https://spark.apache.org/docs/latest/api/python/pyspark.sql.html#pyspark.sql.types.StructType)\n",
        "+ колонки [pyspark.sql.Column](https://spark.apache.org/docs/latest/api/python/pyspark.sql.html#pyspark.sql.Column)\n",
        "+ данные [pyspark.sql.Row](https://spark.apache.org/docs/latest/api/python/pyspark.sql.html#pyspark.sql.Row)"
      ],
      "metadata": {
        "id": "Mu2t6KdZP-_D"
      }
    },
    {
      "cell_type": "markdown",
      "source": [
        "## Структура джобы Spark\n",
        "\n",
        "+ Spark **«ничего не делает»** до тех пор, пока драйверная программа не вызовет действие\n",
        "+ При каждом вызове действия планировщик Spark строит DAG выполнения и запускает задание Spark (Spark job)\n",
        "+ Джоба Spark состоит из этапов, представляющих собой шаги преобразования данных, необходимые для формирования итогового набора RDD.\n",
        "+ Этап состоит из набора tasks, каждая из которых означает параллельное вычисление, выполняемое на исполнителе."
      ],
      "metadata": {
        "id": "Kod0W7qOQE8R"
      }
    },
    {
      "cell_type": "code",
      "metadata": {
        "id": "A2PD9JINl0DA"
      },
      "source": [
        "# Данные те же, что и в дз\n",
        "df = spark.read.csv('train.csv', header=True, inferSchema=True)"
      ],
      "execution_count": 5,
      "outputs": []
    },
    {
      "cell_type": "code",
      "source": [
        "# посмотреть схему датафрейма (колонки и их типы)\n",
        "# cхема может быть сложной, колонка может иметь массив и количество вложенности никак не лимитировано \n",
        "df.printSchema()"
      ],
      "metadata": {
        "id": "IkpzAmQx2sdV",
        "colab": {
          "base_uri": "https://localhost:8080/"
        },
        "outputId": "3cdb2696-8ec6-40c4-ef10-217677a612b4"
      },
      "execution_count": 6,
      "outputs": [
        {
          "output_type": "stream",
          "name": "stdout",
          "text": [
            "root\n",
            " |-- battery_power: integer (nullable = true)\n",
            " |-- blue: integer (nullable = true)\n",
            " |-- clock_speed: double (nullable = true)\n",
            " |-- dual_sim: integer (nullable = true)\n",
            " |-- fc: integer (nullable = true)\n",
            " |-- four_g: integer (nullable = true)\n",
            " |-- int_memory: integer (nullable = true)\n",
            " |-- m_dep: double (nullable = true)\n",
            " |-- mobile_wt: integer (nullable = true)\n",
            " |-- n_cores: integer (nullable = true)\n",
            " |-- pc: integer (nullable = true)\n",
            " |-- px_height: integer (nullable = true)\n",
            " |-- px_width: integer (nullable = true)\n",
            " |-- ram: integer (nullable = true)\n",
            " |-- sc_h: integer (nullable = true)\n",
            " |-- sc_w: integer (nullable = true)\n",
            " |-- talk_time: integer (nullable = true)\n",
            " |-- three_g: integer (nullable = true)\n",
            " |-- touch_screen: integer (nullable = true)\n",
            " |-- wifi: integer (nullable = true)\n",
            " |-- price_range: integer (nullable = true)\n",
            "\n"
          ]
        }
      ]
    },
    {
      "cell_type": "code",
      "source": [
        "# select - выбрать несколько столбцов для вывода в консоль драйвера\n",
        "df.select(\"battery_power\", \"blue\").show(10, False)\n",
        "\n",
        "# Когда вы выбираете несколько столбцов из исходного датафрейма, вы не мутируете их, а создаете новый в памяти\n",
        "# DF и RDD неизменяемые типы данных\n",
        "df.show()"
      ],
      "metadata": {
        "id": "qdXlZh0wzX0y",
        "colab": {
          "base_uri": "https://localhost:8080/"
        },
        "outputId": "ae1ee027-faed-41b9-8b83-2fa14600ac4f"
      },
      "execution_count": 7,
      "outputs": [
        {
          "output_type": "stream",
          "name": "stdout",
          "text": [
            "+-------------+----+\n",
            "|battery_power|blue|\n",
            "+-------------+----+\n",
            "|842          |0   |\n",
            "|1021         |1   |\n",
            "|563          |1   |\n",
            "|615          |1   |\n",
            "|1821         |1   |\n",
            "|1859         |0   |\n",
            "|1821         |0   |\n",
            "|1954         |0   |\n",
            "|1445         |1   |\n",
            "|509          |1   |\n",
            "+-------------+----+\n",
            "only showing top 10 rows\n",
            "\n",
            "+-------------+----+-----------+--------+---+------+----------+-----+---------+-------+---+---------+--------+----+----+----+---------+-------+------------+----+-----------+\n",
            "|battery_power|blue|clock_speed|dual_sim| fc|four_g|int_memory|m_dep|mobile_wt|n_cores| pc|px_height|px_width| ram|sc_h|sc_w|talk_time|three_g|touch_screen|wifi|price_range|\n",
            "+-------------+----+-----------+--------+---+------+----------+-----+---------+-------+---+---------+--------+----+----+----+---------+-------+------------+----+-----------+\n",
            "|          842|   0|        2.2|       0|  1|     0|         7|  0.6|      188|      2|  2|       20|     756|2549|   9|   7|       19|      0|           0|   1|          1|\n",
            "|         1021|   1|        0.5|       1|  0|     1|        53|  0.7|      136|      3|  6|      905|    1988|2631|  17|   3|        7|      1|           1|   0|          2|\n",
            "|          563|   1|        0.5|       1|  2|     1|        41|  0.9|      145|      5|  6|     1263|    1716|2603|  11|   2|        9|      1|           1|   0|          2|\n",
            "|          615|   1|        2.5|       0|  0|     0|        10|  0.8|      131|      6|  9|     1216|    1786|2769|  16|   8|       11|      1|           0|   0|          2|\n",
            "|         1821|   1|        1.2|       0| 13|     1|        44|  0.6|      141|      2| 14|     1208|    1212|1411|   8|   2|       15|      1|           1|   0|          1|\n",
            "|         1859|   0|        0.5|       1|  3|     0|        22|  0.7|      164|      1|  7|     1004|    1654|1067|  17|   1|       10|      1|           0|   0|          1|\n",
            "|         1821|   0|        1.7|       0|  4|     1|        10|  0.8|      139|      8| 10|      381|    1018|3220|  13|   8|       18|      1|           0|   1|          3|\n",
            "|         1954|   0|        0.5|       1|  0|     0|        24|  0.8|      187|      4|  0|      512|    1149| 700|  16|   3|        5|      1|           1|   1|          0|\n",
            "|         1445|   1|        0.5|       0|  0|     0|        53|  0.7|      174|      7| 14|      386|     836|1099|  17|   1|       20|      1|           0|   0|          0|\n",
            "|          509|   1|        0.6|       1|  2|     1|         9|  0.1|       93|      5| 15|     1137|    1224| 513|  19|  10|       12|      1|           0|   0|          0|\n",
            "|          769|   1|        2.9|       1|  0|     0|         9|  0.1|      182|      5|  1|      248|     874|3946|   5|   2|        7|      0|           0|   0|          3|\n",
            "|         1520|   1|        2.2|       0|  5|     1|        33|  0.5|      177|      8| 18|      151|    1005|3826|  14|   9|       13|      1|           1|   1|          3|\n",
            "|         1815|   0|        2.8|       0|  2|     0|        33|  0.6|      159|      4| 17|      607|     748|1482|  18|   0|        2|      1|           0|   0|          1|\n",
            "|          803|   1|        2.1|       0|  7|     0|        17|  1.0|      198|      4| 11|      344|    1440|2680|   7|   1|        4|      1|           0|   1|          2|\n",
            "|         1866|   0|        0.5|       0| 13|     1|        52|  0.7|      185|      1| 17|      356|     563| 373|  14|   9|        3|      1|           0|   1|          0|\n",
            "|          775|   0|        1.0|       0|  3|     0|        46|  0.7|      159|      2| 16|      862|    1864| 568|  17|  15|       11|      1|           1|   1|          0|\n",
            "|          838|   0|        0.5|       0|  1|     1|        13|  0.1|      196|      8|  4|      984|    1850|3554|  10|   9|       19|      1|           0|   1|          3|\n",
            "|          595|   0|        0.9|       1|  7|     1|        23|  0.1|      121|      3| 17|      441|     810|3752|  10|   2|       18|      1|           1|   0|          3|\n",
            "|         1131|   1|        0.5|       1| 11|     0|        49|  0.6|      101|      5| 18|      658|     878|1835|  19|  13|       16|      1|           1|   0|          1|\n",
            "|          682|   1|        0.5|       0|  4|     0|        19|  1.0|      121|      4| 11|      902|    1064|2337|  11|   1|       18|      0|           1|   1|          1|\n",
            "+-------------+----+-----------+--------+---+------+----------+-----+---------+-------+---+---------+--------+----+----+----+---------+-------+------------+----+-----------+\n",
            "only showing top 20 rows\n",
            "\n"
          ]
        }
      ]
    },
    {
      "cell_type": "code",
      "source": [
        "# write - запись в файл \n",
        "\n",
        "df.write.mode(\"overwrite\").csv('my_data.csv')"
      ],
      "metadata": {
        "id": "_iQWK0DtySPx"
      },
      "execution_count": 8,
      "outputs": []
    },
    {
      "cell_type": "markdown",
      "source": [
        "## Чтение данных из источника\n",
        "Основной метод чтения любых источников\n",
        "\n",
        "```df = spark.read.format(datasource_type).option(datasource_options).load(object_name)```\n",
        "\n",
        "+ ```datasource_type``` - тип источника (\"parquet\", \"json\", \"cassandra\") и т. д.\n",
        "+ ```datasource_options``` - опции для работы с источником (логины, пароли, адреса для подключения и т. д.)\n",
        "+ ```object_name``` - имя таблицы/файла/топика/индекса\n",
        "\n",
        "[DataframeReader](https://spark.apache.org/docs/latest/api/python/pyspark.sql.html#pyspark.sql.DataFrameReader):\n",
        "+ по умолчанию выводит схему данных\n",
        "+ является трансформацией (ленивый)\n",
        "+ возвращает [Dataframe](https://spark.apache.org/docs/latest/api/python/pyspark.sql.html#pyspark.sql.DataFrame)\n",
        "\n",
        "### Список (неполный) поддерживаемых источников данных\n",
        "+ Файлы:\n",
        "  - json\n",
        "  - text\n",
        "  - csv\n",
        "  - orc\n",
        "  - parquet\n",
        "  - delta\n",
        "+ Базы данных\n",
        "  - elasticsearch\n",
        "  - cassandra\n",
        "  - jdbc\n",
        "  - hive\n",
        "  - redis\n",
        "  - mongo\n",
        "+ Брокеры сообщений\n",
        "  - kafka\n",
        "  \n",
        "\n",
        "**Библиотеки для работы с источниками должны быть доступны в JAVA CLASSPATH на драйвере и воркерах!**"
      ],
      "metadata": {
        "id": "gtVmqsdvQqmN"
      }
    },
    {
      "cell_type": "markdown",
      "source": [
        "## Запись данных\n",
        "Основной метод записи в любые системы\n",
        "\n",
        "```df.write.format(datasource_type).options(datasource_options).mode(savemode).save(object_name)```\n",
        "\n",
        "+ ```datasource_type``` - тип источника (\"parquet\", \"json\", \"cassandra\") и т. д.\n",
        "+ ```datasource_options``` - опции для работы с источником (логины, пароли, адреса для подключения и т. д.)\n",
        "+ ```savemode``` - режим записи данных (добавление, перезапись и т. д.)\n",
        "+ ```object_name``` - имя таблицы/файла/топика/индекса\n",
        "\n",
        "[DataFrameWriter](https://spark.apache.org/docs/latest/api/python/pyspark.sql.html#pyspark.sql.DataFrameWriter):\n",
        "+ метод ```save``` является действием\n",
        "+ позволяет работать с партиционированными данными (parquet, orc)\n",
        "+ не всегда валидирует схему и формат данных\n",
        "\n",
        "\n",
        "### Список (неполный) поддерживаемых источников данных\n",
        "+ Файлы:\n",
        "  - json\n",
        "  - text\n",
        "  - csv\n",
        "  - orc\n",
        "  - parquet\n",
        "  - delta\n",
        "+ Базы данных\n",
        "  - elasticsearch\n",
        "  - cassandra\n",
        "  - jdbc\n",
        "  - hive\n",
        "  - redis\n",
        "  - mongo\n",
        "+ Брокеры сообщений\n",
        "  - kafka\n",
        "  \n",
        "\n",
        "**Библиотеки для работы с источниками должны быть доступны в JAVA CLASSPATH на драйвере и воркерах!**\n",
        "\n",
        "\n"
      ],
      "metadata": {
        "id": "SvXoosJXQcWV"
      }
    },
    {
      "cell_type": "markdown",
      "source": [
        "## Функции pyspark.sql.functions\n",
        "\n",
        "Spark обладает достаточно большим набором встроенных функций, доступных в [pyspark.sql.functions](https://spark.apache.org/docs/latest/api/python/pyspark.sql.html#module-pyspark.sql.functions), поэтому перед тем, как писать свою UDF, стоит обязательно поискать нужную функцию в данном пакете.\n",
        "\n",
        "К тому же, все функции Spark принимают на вход и возвращают [pyspark.sql.Column](https://spark.apache.org/docs/latest/api/python/pyspark.sql.html#pyspark.sql.Column), а это значит, что вы можете совмещать функции вместе"
      ],
      "metadata": {
        "id": "Dx9bG3y1SHnt"
      }
    },
    {
      "cell_type": "code",
      "source": [
        "import pyspark.sql.functions as F"
      ],
      "metadata": {
        "id": "Cv1dZ7VPgDkF"
      },
      "execution_count": 10,
      "outputs": []
    },
    {
      "cell_type": "code",
      "source": [
        "df = spark.range(0, 10)\n",
        "\n",
        "my_awesome_col = F.struct(F.col(\"id\")).alias(\"foo\")\n",
        "\n",
        "#cложная структура файла\n",
        "df.select(my_awesome_col).printSchema()\n",
        "df.select(my_awesome_col).show()"
      ],
      "metadata": {
        "id": "eFoqvVyISOtS",
        "colab": {
          "base_uri": "https://localhost:8080/"
        },
        "outputId": "ba7cea22-6129-4aad-c528-9705aaeed27a"
      },
      "execution_count": 15,
      "outputs": [
        {
          "output_type": "stream",
          "name": "stdout",
          "text": [
            "root\n",
            " |-- foo: struct (nullable = false)\n",
            " |    |-- id: long (nullable = false)\n",
            "\n",
            "+---+\n",
            "|foo|\n",
            "+---+\n",
            "|{0}|\n",
            "|{1}|\n",
            "|{2}|\n",
            "|{3}|\n",
            "|{4}|\n",
            "|{5}|\n",
            "|{6}|\n",
            "|{7}|\n",
            "|{8}|\n",
            "|{9}|\n",
            "+---+\n",
            "\n"
          ]
        }
      ]
    },
    {
      "cell_type": "markdown",
      "source": [
        "## Работа с данными"
      ],
      "metadata": {
        "id": "mwsvd307Rr-o"
      }
    },
    {
      "cell_type": "code",
      "source": [
        "# Удаляем дубликаты с помощью метода distinct(), который возвращает новый df, а не мутирует текущий\n",
        "# Удаляет все колонки, где значения одинаковые во всех столбцах одинаковые\n",
        "df.distinct().show()"
      ],
      "metadata": {
        "id": "DkRpid3zQhkF",
        "colab": {
          "base_uri": "https://localhost:8080/"
        },
        "outputId": "107249b1-488b-4406-83c6-f040e6e26eda"
      },
      "execution_count": 16,
      "outputs": [
        {
          "output_type": "stream",
          "name": "stdout",
          "text": [
            "+---+\n",
            "| id|\n",
            "+---+\n",
            "|  0|\n",
            "|  1|\n",
            "|  2|\n",
            "|  3|\n",
            "|  4|\n",
            "|  5|\n",
            "|  6|\n",
            "|  7|\n",
            "|  8|\n",
            "|  9|\n",
            "+---+\n",
            "\n"
          ]
        }
      ]
    },
    {
      "cell_type": "code",
      "source": [
        "# есть более удобный вариант, где можно указать, по каким колонкам будет проводить удаление дубликатов\n",
        "# уникальность будет определяться по кортежу из subset\n",
        "\n",
        "#df.dropDuplicates(subset=[\"battery_power\", \"dual_sim\"]).show()\n",
        "\n",
        "df.show() # Нам показывает, что в тек. датафрейме остался один столбец ID.\n",
        "#Поэтому перезапрашиваем df = spark.read.csv('train.csv', header=True, inferSchema=True), Либо JOIN \n",
        "\n",
        "# df.dropDuplicates(F.col[\"battery_power\"]).show()"
      ],
      "metadata": {
        "id": "DVIwkeEERwri",
        "colab": {
          "base_uri": "https://localhost:8080/"
        },
        "outputId": "27126815-b960-445d-e530-ee85fd82a0e9"
      },
      "execution_count": 31,
      "outputs": [
        {
          "output_type": "stream",
          "name": "stdout",
          "text": [
            "+---+\n",
            "| id|\n",
            "+---+\n",
            "|  0|\n",
            "|  1|\n",
            "|  2|\n",
            "|  3|\n",
            "|  4|\n",
            "|  5|\n",
            "|  6|\n",
            "|  7|\n",
            "|  8|\n",
            "|  9|\n",
            "+---+\n",
            "\n"
          ]
        }
      ]
    },
    {
      "cell_type": "code",
      "source": [
        "df = spark.read.csv('train.csv', header=True, inferSchema=True)"
      ],
      "metadata": {
        "id": "BRXwk0OXjned"
      },
      "execution_count": 32,
      "outputs": []
    },
    {
      "cell_type": "code",
      "source": [
        "df.dropDuplicates(subset=[\"battery_power\", \"dual_sim\"]).show() # +"
      ],
      "metadata": {
        "colab": {
          "base_uri": "https://localhost:8080/"
        },
        "id": "HhGgbElCjo_A",
        "outputId": "f62cccd5-c9e3-4859-955c-0eff75917e1b"
      },
      "execution_count": 33,
      "outputs": [
        {
          "output_type": "stream",
          "name": "stdout",
          "text": [
            "+-------------+----+-----------+--------+---+------+----------+-----+---------+-------+---+---------+--------+----+----+----+---------+-------+------------+----+-----------+\n",
            "|battery_power|blue|clock_speed|dual_sim| fc|four_g|int_memory|m_dep|mobile_wt|n_cores| pc|px_height|px_width| ram|sc_h|sc_w|talk_time|three_g|touch_screen|wifi|price_range|\n",
            "+-------------+----+-----------+--------+---+------+----------+-----+---------+-------+---+---------+--------+----+----+----+---------+-------+------------+----+-----------+\n",
            "|         1504|   0|        2.3|       1|  1|     0|        64|  0.9|      182|      1|  2|       19|    1923|3059|   6|   5|       10|      0|           1|   0|          3|\n",
            "|          916|   1|        2.6|       0|  0|     0|        36|  0.3|      195|      4| 12|      188|     992|1470|  13|   0|       14|      0|           1|   0|          0|\n",
            "|          914|   1|        0.9|       0|  2|     0|         4|  0.8|      100|      2| 12|      191|    1495| 808|  11|   7|        5|      1|           1|   0|          0|\n",
            "|          946|   0|        2.1|       0|  0|     1|        19|  0.2|      154|      8|  0|      159|     630|2104|   7|   4|       16|      1|           1|   0|          1|\n",
            "|         1161|   0|        1.3|       1|  0|     1|        21|  0.6|      126|      8| 12|      308|    1169|3336|   6|   4|       14|      1|           0|   1|          3|\n",
            "|         1181|   0|        2.3|       0| 12|     1|        61|  0.6|      116|      2| 16|      385|     831|2020|   6|   0|       18|      1|           1|   0|          1|\n",
            "|          959|   1|        1.7|       0| 15|     0|        13|  0.4|      155|      4| 16|       87|     736|3328|  10|   9|       10|      1|           1|   1|          2|\n",
            "|         1655|   1|        0.5|       1|  6|     1|         4|  0.1|      105|      3| 12|      626|    1348| 673|  10|   3|       12|      1|           0|   0|          0|\n",
            "|         1384|   1|        2.8|       1| 15|     0|        60|  0.1|       82|      3| 18|      983|    1210|1221|  18|  12|       15|      1|           0|   1|          1|\n",
            "|         1335|   1|        3.0|       0|  3|     0|        60|  0.8|      180|      2|  4|       83|     559|3615|   5|   2|        9|      1|           0|   0|          3|\n",
            "|         1659|   0|        2.8|       0|  5|     0|        16|  0.6|       89|      1| 20|      819|     902|3255|  19|  14|        9|      0|           0|   1|          3|\n",
            "|          503|   0|        2.5|       0|  3|     0|        57|  0.6|      185|      6| 11|      778|    1291| 305|  11|   8|       16|      0|           0|   1|          0|\n",
            "|          865|   0|        1.2|       1|  8|     0|        59|  0.1|      159|      3|  9|      805|    1804|2361|  16|  11|       19|      1|           0|   1|          2|\n",
            "|          622|   0|        0.7|       0|  0|     1|         9|  0.3|      127|      2|  0|       98|     511|3916|  13|   1|        5|      1|           0|   1|          2|\n",
            "|          909|   1|        1.4|       0|  0|     0|        53|  0.3|       82|      8|  0|      635|     973|3187|  12|   9|        4|      1|           0|   0|          2|\n",
            "|          850|   1|        1.6|       1|  6|     1|        29|  0.5|      133|      5| 19|      404|     642| 593|  19|  17|       10|      1|           0|   1|          0|\n",
            "|          668|   0|        2.3|       0|  2|     1|        48|  0.3|      114|      1| 19|      195|    1292|1201|  14|  12|        4|      1|           1|   0|          0|\n",
            "|         1391|   0|        1.4|       0|  2|     1|        36|  0.8|      182|      1|  6|       14|    1256|3139|  14|   7|       14|      1|           1|   0|          2|\n",
            "|         1960|   1|        2.3|       1|  1|     1|        61|  0.3|       86|      7|  3|      205|    1299|3865|  10|   7|       11|      1|           0|   0|          3|\n",
            "|         1608|   0|        1.8|       1|  7|     0|        28|  0.4|      183|      2| 13|     1013|    1158| 489|  15|  11|        8|      0|           0|   1|          0|\n",
            "+-------------+----+-----------+--------+---+------+----------+-----+---------+-------+---+---------+--------+----+----+----+---------+-------+------------+----+-----------+\n",
            "only showing top 20 rows\n",
            "\n"
          ]
        }
      ]
    },
    {
      "cell_type": "code",
      "source": [
        "df.dropDuplicates(subset=[\"battery_power\"]).show()"
      ],
      "metadata": {
        "colab": {
          "base_uri": "https://localhost:8080/"
        },
        "id": "qjsbnX_Sjvur",
        "outputId": "4486b3ed-8889-4b3c-d363-c24a21a0a813"
      },
      "execution_count": 35,
      "outputs": [
        {
          "output_type": "stream",
          "name": "stdout",
          "text": [
            "+-------------+----+-----------+--------+---+------+----------+-----+---------+-------+---+---------+--------+----+----+----+---------+-------+------------+----+-----------+\n",
            "|battery_power|blue|clock_speed|dual_sim| fc|four_g|int_memory|m_dep|mobile_wt|n_cores| pc|px_height|px_width| ram|sc_h|sc_w|talk_time|three_g|touch_screen|wifi|price_range|\n",
            "+-------------+----+-----------+--------+---+------+----------+-----+---------+-------+---+---------+--------+----+----+----+---------+-------+------------+----+-----------+\n",
            "|         1645|   1|        1.8|       0|  1|     0|        21|  0.7|      123|      7|  2|      897|    1308| 783|  10|   8|       20|      1|           0|   0|          0|\n",
            "|         1591|   1|        2.2|       0|  3|     1|        49|  0.4|      154|      6|  7|     1384|    1883|3703|  17|   6|       20|      1|           1|   0|          3|\n",
            "|          833|   1|        2.2|       0|  4|     0|        27|  0.9|      124|      1|  6|      359|    1395|2150|   9|   5|        7|      0|           1|   1|          1|\n",
            "|         1829|   1|        0.5|       0|  0|     1|        15|  0.4|      160|      5|  7|      729|    1267|2080|  16|  11|       12|      1|           0|   1|          2|\n",
            "|         1959|   0|        0.5|       1|  5|     0|        18|  0.7|      191|      6| 20|       65|    1055| 619|   7|   4|        8|      1|           1|   1|          0|\n",
            "|         1342|   0|        1.0|       0|  0|     1|        31|  0.6|       86|      7|  1|      991|    1638|2746|  15|   5|       10|      1|           1|   0|          3|\n",
            "|         1127|   1|        2.9|       1|  5|     1|        57|  0.8|      163|      1| 13|      928|    1049|2048|  11|   5|       17|      1|           1|   1|          1|\n",
            "|         1084|   1|        2.6|       0|  3|     1|        40|  0.9|      107|      3| 11|      322|     771|1945|  15|   4|       10|      1|           1|   0|          1|\n",
            "|         1395|   0|        1.8|       1|  0|     0|        23|  0.1|      111|      3|  1|      213|     705|2571|  11|   0|       13|      1|           0|   1|          2|\n",
            "|         1896|   0|        0.5|       1|  8|     1|         7|  0.4|      141|      2| 13|      447|     794|3684|   9|   7|       18|      1|           0|   0|          3|\n",
            "|         1483|   0|        2.1|       0|  1|     1|        54|  0.2|      176|      7|  2|      531|     758|1851|  15|  13|        2|      1|           1|   0|          1|\n",
            "|          737|   1|        2.4|       1|  7|     0|        49|  0.6|      193|      4| 16|      781|    1463|2951|   7|   0|       10|      0|           1|   0|          2|\n",
            "|         1721|   1|        0.5|       1|  4|     1|        33|  0.5|      128|      4|  5|      871|    1048| 707|  19|   2|        5|      1|           1|   1|          0|\n",
            "|          623|   0|        2.0|       0|  2|     0|         6|  0.1|      127|      3|  4|      144|     672|3657|  17|   3|       19|      1|           1|   0|          2|\n",
            "|         1522|   1|        0.7|       1|  4|     0|        28|  0.2|      124|      1|  5|      952|    1191|1368|  14|   5|       17|      1|           0|   1|          1|\n",
            "|         1507|   1|        0.9|       1|  0|     1|        42|  0.4|      123|      5|  0|      682|     888|1486|  15|   3|       19|      1|           0|   0|          1|\n",
            "|          897|   0|        1.4|       1|  1|     0|        17|  0.4|      171|      1|  2|      547|    1852|2948|  12|   3|        5|      0|           0|   1|          2|\n",
            "|          858|   0|        2.2|       0|  1|     0|        50|  0.1|       84|      1|  2|      528|    1416|3978|  17|  16|        3|      1|           1|   0|          3|\n",
            "|         1322|   0|        1.7|       1|  6|     0|         7|  0.8|      140|      3|  9|      177|    1990|1418|  19|  17|       12|      0|           1|   0|          1|\n",
            "|         1270|   1|        0.6|       1|  2|     1|        32|  0.5|      101|      7|  6|      299|     845|3770|   5|   3|       13|      1|           1|   0|          3|\n",
            "+-------------+----+-----------+--------+---+------+----------+-----+---------+-------+---+---------+--------+----+----+----+---------+-------+------------+----+-----------+\n",
            "only showing top 20 rows\n",
            "\n"
          ]
        }
      ]
    },
    {
      "cell_type": "code",
      "source": [
        "# Удаляем пустые строки. Параметр \"all\" означает, что будут удалены только те строки, в которых ВСЕ элементы null\n",
        "# Пакет na - разные методы на пропусками в данных\n",
        "\n",
        "# .na.drop(\"all\") - удаляем строки, где во всех столбцах значение Null\n",
        "# если в na передать аргумент any, удалим строки, где встречаются хотя бы раз Null\n",
        "\n",
        "df \\\n",
        "    .distinct() \\\n",
        "    .na.drop(\"all\") \\\n",
        "    .show()"
      ],
      "metadata": {
        "id": "LViSPqE-RwzO",
        "colab": {
          "base_uri": "https://localhost:8080/"
        },
        "outputId": "4ad08c01-1198-41db-d480-2c9a37967197"
      },
      "execution_count": 36,
      "outputs": [
        {
          "output_type": "stream",
          "name": "stdout",
          "text": [
            "+-------------+----+-----------+--------+---+------+----------+-----+---------+-------+---+---------+--------+----+----+----+---------+-------+------------+----+-----------+\n",
            "|battery_power|blue|clock_speed|dual_sim| fc|four_g|int_memory|m_dep|mobile_wt|n_cores| pc|px_height|px_width| ram|sc_h|sc_w|talk_time|three_g|touch_screen|wifi|price_range|\n",
            "+-------------+----+-----------+--------+---+------+----------+-----+---------+-------+---+---------+--------+----+----+----+---------+-------+------------+----+-----------+\n",
            "|          596|   0|        2.1|       1|  9|     0|        64|  0.8|      111|      8| 15|      885|    1854|3238|  16|  13|       10|      0|           0|   0|          3|\n",
            "|         1414|   0|        2.0|       1|  2|     0|        54|  0.8|       99|      7|  3|      262|     829|3799|  17|   7|        7|      1|           0|   1|          3|\n",
            "|          598|   0|        2.3|       1|  7|     0|        21|  0.7|      196|      2| 10|      680|    1173|3293|   8|   4|        7|      1|           0|   1|          2|\n",
            "|         1108|   0|        1.0|       0|  3|     0|        49|  0.7|      140|      5| 12|     1298|    1666|3254|  12|   0|       16|      1|           0|   0|          3|\n",
            "|         1271|   0|        0.5|       1|  2|     0|        54|  0.1|      159|      8|  3|      613|     650| 990|  14|  11|        6|      0|           1|   1|          0|\n",
            "|         1633|   0|        1.7|       1|  3|     1|        33|  0.9|      111|      2| 19|      146|     906| 511|   9|   0|        7|      1|           1|   0|          0|\n",
            "|         1134|   1|        0.9|       0|  2|     1|        13|  0.4|       92|      4| 19|       18|     903|3632|  17|   8|       19|      1|           1|   0|          3|\n",
            "|         1970|   1|        0.5|       1|  0|     1|        15|  1.0|      132|      2|  0|     1399|    1684|1658|  15|   9|       20|      1|           1|   1|          2|\n",
            "|         1273|   1|        0.7|       0|  1|     0|        23|  0.6|      178|      6| 14|      485|    1399| 558|   8|   5|       13|      1|           0|   0|          0|\n",
            "|          819|   0|        0.6|       1|  8|     1|        42|  0.9|      188|      6| 20|      339|    1242|1814|   5|   4|       13|      1|           0|   1|          1|\n",
            "|          664|   0|        1.2|       1|  0|     0|        28|  0.9|      106|      5|  5|      754|    1497|2042|  17|  15|       19|      1|           1|   0|          1|\n",
            "|         1968|   0|        0.9|       0|  0|     0|        22|  0.8|      115|      3|  7|      861|    1259|2323|   9|   8|        7|      0|           0|   1|          2|\n",
            "|         1589|   1|        1.4|       0|  3|     1|        26|  0.1|      100|      8| 16|     1673|    1759|3970|  16|   8|       18|      1|           0|   1|          3|\n",
            "|         1753|   0|        1.2|       0|  8|     1|        12|  0.9|      113|      7| 17|      387|    1595|1445|  17|  16|       12|      1|           1|   1|          1|\n",
            "|          718|   0|        2.8|       0| 10|     0|        59|  0.8|      113|      6| 13|     1185|    1387|1824|  11|   9|        3|      1|           1|   0|          1|\n",
            "|         1982|   1|        1.6|       0|  2|     1|        12|  0.2|       80|      5| 20|      287|     593|1824|  13|   3|       14|      1|           1|   1|          1|\n",
            "|          838|   0|        0.5|       0|  1|     1|        13|  0.1|      196|      8|  4|      984|    1850|3554|  10|   9|       19|      1|           0|   1|          3|\n",
            "|         1082|   0|        0.8|       0|  0|     0|        38|  0.1|      198|      8|  5|      986|    1191|2337|   6|   1|       17|      0|           1|   1|          2|\n",
            "|         1934|   1|        2.6|       1|  0|     1|        46|  0.1|      103|      1| 17|      619|    1299|2940|  13|   9|        2|      1|           1|   1|          3|\n",
            "|         1886|   0|        0.5|       0|  0|     1|        24|  0.4|      112|      3|  1|      809|    1958|1179|  16|   7|       20|      1|           0|   1|          1|\n",
            "+-------------+----+-----------+--------+---+------+----------+-----+---------+-------+---+---------+--------+----+----+----+---------+-------+------------+----+-----------+\n",
            "only showing top 20 rows\n",
            "\n"
          ]
        }
      ]
    },
    {
      "cell_type": "code",
      "source": [
        "# Заполняем пустые значения, потому что 1 + 0 = 1, а 1 + NULL = NULL\n",
        "# Передаем в na.fill python словарь, в котором указываются значения, которые следует использовать для null\n",
        "\n",
        "df \\\n",
        "    .distinct() \\\n",
        "    .na.drop(\"all\") \\\n",
        "    .na.fill({'dual_sim': 'Unknown', 'dual_sim': 0,}) \\\n",
        "    .show()"
      ],
      "metadata": {
        "id": "DMa3kR_ER1iW",
        "colab": {
          "base_uri": "https://localhost:8080/"
        },
        "outputId": "d036736a-c0cb-48c3-ae87-1106b2e6c84b"
      },
      "execution_count": 37,
      "outputs": [
        {
          "output_type": "stream",
          "name": "stdout",
          "text": [
            "+-------------+----+-----------+--------+---+------+----------+-----+---------+-------+---+---------+--------+----+----+----+---------+-------+------------+----+-----------+\n",
            "|battery_power|blue|clock_speed|dual_sim| fc|four_g|int_memory|m_dep|mobile_wt|n_cores| pc|px_height|px_width| ram|sc_h|sc_w|talk_time|three_g|touch_screen|wifi|price_range|\n",
            "+-------------+----+-----------+--------+---+------+----------+-----+---------+-------+---+---------+--------+----+----+----+---------+-------+------------+----+-----------+\n",
            "|          596|   0|        2.1|       1|  9|     0|        64|  0.8|      111|      8| 15|      885|    1854|3238|  16|  13|       10|      0|           0|   0|          3|\n",
            "|         1414|   0|        2.0|       1|  2|     0|        54|  0.8|       99|      7|  3|      262|     829|3799|  17|   7|        7|      1|           0|   1|          3|\n",
            "|          598|   0|        2.3|       1|  7|     0|        21|  0.7|      196|      2| 10|      680|    1173|3293|   8|   4|        7|      1|           0|   1|          2|\n",
            "|         1108|   0|        1.0|       0|  3|     0|        49|  0.7|      140|      5| 12|     1298|    1666|3254|  12|   0|       16|      1|           0|   0|          3|\n",
            "|         1271|   0|        0.5|       1|  2|     0|        54|  0.1|      159|      8|  3|      613|     650| 990|  14|  11|        6|      0|           1|   1|          0|\n",
            "|         1633|   0|        1.7|       1|  3|     1|        33|  0.9|      111|      2| 19|      146|     906| 511|   9|   0|        7|      1|           1|   0|          0|\n",
            "|         1134|   1|        0.9|       0|  2|     1|        13|  0.4|       92|      4| 19|       18|     903|3632|  17|   8|       19|      1|           1|   0|          3|\n",
            "|         1970|   1|        0.5|       1|  0|     1|        15|  1.0|      132|      2|  0|     1399|    1684|1658|  15|   9|       20|      1|           1|   1|          2|\n",
            "|         1273|   1|        0.7|       0|  1|     0|        23|  0.6|      178|      6| 14|      485|    1399| 558|   8|   5|       13|      1|           0|   0|          0|\n",
            "|          819|   0|        0.6|       1|  8|     1|        42|  0.9|      188|      6| 20|      339|    1242|1814|   5|   4|       13|      1|           0|   1|          1|\n",
            "|          664|   0|        1.2|       1|  0|     0|        28|  0.9|      106|      5|  5|      754|    1497|2042|  17|  15|       19|      1|           1|   0|          1|\n",
            "|         1968|   0|        0.9|       0|  0|     0|        22|  0.8|      115|      3|  7|      861|    1259|2323|   9|   8|        7|      0|           0|   1|          2|\n",
            "|         1589|   1|        1.4|       0|  3|     1|        26|  0.1|      100|      8| 16|     1673|    1759|3970|  16|   8|       18|      1|           0|   1|          3|\n",
            "|         1753|   0|        1.2|       0|  8|     1|        12|  0.9|      113|      7| 17|      387|    1595|1445|  17|  16|       12|      1|           1|   1|          1|\n",
            "|          718|   0|        2.8|       0| 10|     0|        59|  0.8|      113|      6| 13|     1185|    1387|1824|  11|   9|        3|      1|           1|   0|          1|\n",
            "|         1982|   1|        1.6|       0|  2|     1|        12|  0.2|       80|      5| 20|      287|     593|1824|  13|   3|       14|      1|           1|   1|          1|\n",
            "|          838|   0|        0.5|       0|  1|     1|        13|  0.1|      196|      8|  4|      984|    1850|3554|  10|   9|       19|      1|           0|   1|          3|\n",
            "|         1082|   0|        0.8|       0|  0|     0|        38|  0.1|      198|      8|  5|      986|    1191|2337|   6|   1|       17|      0|           1|   1|          2|\n",
            "|         1934|   1|        2.6|       1|  0|     1|        46|  0.1|      103|      1| 17|      619|    1299|2940|  13|   9|        2|      1|           1|   1|          3|\n",
            "|         1886|   0|        0.5|       0|  0|     1|        24|  0.4|      112|      3|  1|      809|    1958|1179|  16|   7|       20|      1|           0|   1|          1|\n",
            "+-------------+----+-----------+--------+---+------+----------+-----+---------+-------+---+---------+--------+----+----+----+---------+-------+------------+----+-----------+\n",
            "only showing top 20 rows\n",
            "\n"
          ]
        }
      ]
    }
  ]
}