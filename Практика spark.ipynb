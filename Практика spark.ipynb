{
  "nbformat": 4,
  "nbformat_minor": 0,
  "metadata": {
    "colab": {
      "name": "Untitled0.ipynb",
      "provenance": [],
      "collapsed_sections": [],
      "mount_file_id": "1JupylmRBkPAm6R7gmGgnE4M5FAqnjnqT",
      "authorship_tag": "ABX9TyNjHCrXJMh2vcbKJiy4QABX",
      "include_colab_link": true
    },
    "kernelspec": {
      "name": "python3",
      "display_name": "Python 3"
    },
    "language_info": {
      "name": "python"
    }
  },
  "cells": [
    {
      "cell_type": "markdown",
      "metadata": {
        "id": "view-in-github",
        "colab_type": "text"
      },
      "source": [
        "<a href=\"https://colab.research.google.com/github/Multik838/-Data-analysis-algorithms/blob/main/%D0%9F%D1%80%D0%B0%D0%BA%D1%82%D0%B8%D0%BA%D0%B0%20spark.ipynb\" target=\"_parent\"><img src=\"https://colab.research.google.com/assets/colab-badge.svg\" alt=\"Open In Colab\"/></a>"
      ]
    },
    {
      "cell_type": "code",
      "execution_count": 1,
      "metadata": {
        "colab": {
          "base_uri": "https://localhost:8080/"
        },
        "id": "DHpJPqlI7lzU",
        "outputId": "8f2d65b8-b666-43f0-a6ba-c259295b86a1"
      },
      "outputs": [
        {
          "output_type": "stream",
          "name": "stdout",
          "text": [
            "Collecting pyspark\n",
            "  Downloading pyspark-3.2.1.tar.gz (281.4 MB)\n",
            "\u001b[K     |████████████████████████████████| 281.4 MB 29 kB/s \n",
            "\u001b[?25hCollecting py4j==0.10.9.3\n",
            "  Downloading py4j-0.10.9.3-py2.py3-none-any.whl (198 kB)\n",
            "\u001b[K     |████████████████████████████████| 198 kB 47.1 MB/s \n",
            "\u001b[?25hBuilding wheels for collected packages: pyspark\n",
            "  Building wheel for pyspark (setup.py) ... \u001b[?25l\u001b[?25hdone\n",
            "  Created wheel for pyspark: filename=pyspark-3.2.1-py2.py3-none-any.whl size=281853642 sha256=09ed83c02d6f1df4f94604a20437ebb22797e086304f5088a352e8c35834db91\n",
            "  Stored in directory: /root/.cache/pip/wheels/9f/f5/07/7cd8017084dce4e93e84e92efd1e1d5334db05f2e83bcef74f\n",
            "Successfully built pyspark\n",
            "Installing collected packages: py4j, pyspark\n",
            "Successfully installed py4j-0.10.9.3 pyspark-3.2.1\n"
          ]
        }
      ],
      "source": [
        "pip install pyspark"
      ]
    },
    {
      "cell_type": "code",
      "source": [
        "from pyspark.sql import SparkSession"
      ],
      "metadata": {
        "id": "RFg0XN-574Ex"
      },
      "execution_count": 2,
      "outputs": []
    },
    {
      "cell_type": "code",
      "source": [
        "spark = SparkSession.builder.appName(\"Test\").getOrCreate()"
      ],
      "metadata": {
        "id": "sFdJEN-w7_U4"
      },
      "execution_count": 3,
      "outputs": []
    },
    {
      "cell_type": "code",
      "source": [
        "spark.version"
      ],
      "metadata": {
        "colab": {
          "base_uri": "https://localhost:8080/",
          "height": 35
        },
        "id": "rB0OqgMr8MCA",
        "outputId": "3b271992-52f2-4c58-ea59-964875d39e7c"
      },
      "execution_count": 4,
      "outputs": [
        {
          "output_type": "execute_result",
          "data": {
            "text/plain": [
              "'3.2.1'"
            ],
            "application/vnd.google.colaboratory.intrinsic+json": {
              "type": "string"
            }
          },
          "metadata": {},
          "execution_count": 4
        }
      ]
    },
    {
      "cell_type": "code",
      "source": [
        "# from google.colab import files\n",
        "# files.upload()"
      ],
      "metadata": {
        "id": "GVa-xutB9LWk"
      },
      "execution_count": 11,
      "outputs": []
    },
    {
      "cell_type": "code",
      "source": [
        "from google.colab import drive\n",
        "drive.mount('/content/drive')"
      ],
      "metadata": {
        "colab": {
          "base_uri": "https://localhost:8080/"
        },
        "id": "fQqB3hlN8PT6",
        "outputId": "c3745606-8f55-47ef-b6c8-5f9bc6925aec"
      },
      "execution_count": 9,
      "outputs": [
        {
          "output_type": "stream",
          "name": "stdout",
          "text": [
            "Mounted at /content/drive\n"
          ]
        }
      ]
    },
    {
      "cell_type": "code",
      "source": [
        "spark"
      ],
      "metadata": {
        "colab": {
          "base_uri": "https://localhost:8080/",
          "height": 219
        },
        "id": "iBMhQprI9upi",
        "outputId": "7ee57df1-5181-413a-bd46-8e2b19aa196d"
      },
      "execution_count": 15,
      "outputs": [
        {
          "output_type": "execute_result",
          "data": {
            "text/plain": [
              "<pyspark.sql.session.SparkSession at 0x7ff27e953850>"
            ],
            "text/html": [
              "\n",
              "            <div>\n",
              "                <p><b>SparkSession - in-memory</b></p>\n",
              "                \n",
              "        <div>\n",
              "            <p><b>SparkContext</b></p>\n",
              "\n",
              "            <p><a href=\"http://117a2b7181c7:4040\">Spark UI</a></p>\n",
              "\n",
              "            <dl>\n",
              "              <dt>Version</dt>\n",
              "                <dd><code>v3.2.1</code></dd>\n",
              "              <dt>Master</dt>\n",
              "                <dd><code>local[*]</code></dd>\n",
              "              <dt>AppName</dt>\n",
              "                <dd><code>Test</code></dd>\n",
              "            </dl>\n",
              "        </div>\n",
              "        \n",
              "            </div>\n",
              "        "
            ]
          },
          "metadata": {},
          "execution_count": 15
        }
      ]
    },
    {
      "cell_type": "code",
      "source": [
        "spark.read.format(\"csv\").load('test.csv')"
      ],
      "metadata": {
        "colab": {
          "base_uri": "https://localhost:8080/"
        },
        "id": "R7qVdT43-XRx",
        "outputId": "5a1374e0-c978-41c8-d357-7bcbd6e61a77"
      },
      "execution_count": 22,
      "outputs": [
        {
          "output_type": "execute_result",
          "data": {
            "text/plain": [
              "DataFrame[_c0: string, _c1: string, _c2: string, _c3: string, _c4: string, _c5: string, _c6: string, _c7: string, _c8: string, _c9: string, _c10: string, _c11: string, _c12: string, _c13: string, _c14: string, _c15: string, _c16: string, _c17: string, _c18: string, _c19: string, _c20: string]"
            ]
          },
          "metadata": {},
          "execution_count": 22
        }
      ]
    },
    {
      "cell_type": "code",
      "source": [
        "df = spark.read.format(\"csv\").option('header','true').load('test.csv')"
      ],
      "metadata": {
        "id": "67cC7FeO-XU6"
      },
      "execution_count": 25,
      "outputs": []
    },
    {
      "cell_type": "code",
      "source": [
        "df.show(5)"
      ],
      "metadata": {
        "colab": {
          "base_uri": "https://localhost:8080/"
        },
        "id": "K1PwUVdG-XYC",
        "outputId": "9785ca8b-9417-4961-8d71-1060b30d7af1"
      },
      "execution_count": 26,
      "outputs": [
        {
          "output_type": "stream",
          "name": "stdout",
          "text": [
            "+---+-------------+----+-----------+--------+---+------+----------+-----+---------+-------+---+---------+--------+----+----+----+---------+-------+------------+----+\n",
            "| id|battery_power|blue|clock_speed|dual_sim| fc|four_g|int_memory|m_dep|mobile_wt|n_cores| pc|px_height|px_width| ram|sc_h|sc_w|talk_time|three_g|touch_screen|wifi|\n",
            "+---+-------------+----+-----------+--------+---+------+----------+-----+---------+-------+---+---------+--------+----+----+----+---------+-------+------------+----+\n",
            "|  1|         1043|   1|        1.8|       1| 14|     0|         5|  0.1|      193|      3| 16|      226|    1412|3476|  12|   7|        2|      0|           1|   0|\n",
            "|  2|          841|   1|        0.5|       1|  4|     1|        61|  0.8|      191|      5| 12|      746|     857|3895|   6|   0|        7|      1|           0|   0|\n",
            "|  3|         1807|   1|        2.8|       0|  1|     0|        27|  0.9|      186|      3|  4|     1270|    1366|2396|  17|  10|       10|      0|           1|   1|\n",
            "|  4|         1546|   0|        0.5|       1| 18|     1|        25|  0.5|       96|      8| 20|      295|    1752|3893|  10|   0|        7|      1|           1|   0|\n",
            "|  5|         1434|   0|        1.4|       0| 11|     1|        49|  0.5|      108|      6| 18|      749|     810|1773|  15|   8|        7|      1|           0|   1|\n",
            "+---+-------------+----+-----------+--------+---+------+----------+-----+---------+-------+---+---------+--------+----+----+----+---------+-------+------------+----+\n",
            "only showing top 5 rows\n",
            "\n"
          ]
        }
      ]
    },
    {
      "cell_type": "code",
      "source": [
        "df.show(1, vertical = True)"
      ],
      "metadata": {
        "colab": {
          "base_uri": "https://localhost:8080/"
        },
        "id": "bLSkaPfU_VjW",
        "outputId": "42de6f48-915c-4ca1-a8a1-f5ddccfe9641"
      },
      "execution_count": 27,
      "outputs": [
        {
          "output_type": "stream",
          "name": "stdout",
          "text": [
            "-RECORD 0-------------\n",
            " id            | 1    \n",
            " battery_power | 1043 \n",
            " blue          | 1    \n",
            " clock_speed   | 1.8  \n",
            " dual_sim      | 1    \n",
            " fc            | 14   \n",
            " four_g        | 0    \n",
            " int_memory    | 5    \n",
            " m_dep         | 0.1  \n",
            " mobile_wt     | 193  \n",
            " n_cores       | 3    \n",
            " pc            | 16   \n",
            " px_height     | 226  \n",
            " px_width      | 1412 \n",
            " ram           | 3476 \n",
            " sc_h          | 12   \n",
            " sc_w          | 7    \n",
            " talk_time     | 2    \n",
            " three_g       | 0    \n",
            " touch_screen  | 1    \n",
            " wifi          | 0    \n",
            "only showing top 1 row\n",
            "\n"
          ]
        }
      ]
    },
    {
      "cell_type": "code",
      "source": [
        "df.select(\"id\",\"sc_h\", \"sc_w\")"
      ],
      "metadata": {
        "colab": {
          "base_uri": "https://localhost:8080/"
        },
        "id": "Ry1HxBA1_Vnf",
        "outputId": "f1c24c4d-1827-4e07-ba6a-18e9ab9fd5d9"
      },
      "execution_count": 29,
      "outputs": [
        {
          "output_type": "execute_result",
          "data": {
            "text/plain": [
              "DataFrame[id: string, sc_h: string, sc_w: string]"
            ]
          },
          "metadata": {},
          "execution_count": 29
        }
      ]
    },
    {
      "cell_type": "code",
      "source": [
        "df.select(\"id\",\"sc_h\", \"sc_w\").show(5)"
      ],
      "metadata": {
        "colab": {
          "base_uri": "https://localhost:8080/"
        },
        "id": "GO1vPUEuAJv-",
        "outputId": "262cc2b2-fad4-480f-e9b1-fc503845680f"
      },
      "execution_count": 30,
      "outputs": [
        {
          "output_type": "stream",
          "name": "stdout",
          "text": [
            "+---+----+----+\n",
            "| id|sc_h|sc_w|\n",
            "+---+----+----+\n",
            "|  1|  12|   7|\n",
            "|  2|   6|   0|\n",
            "|  3|  17|  10|\n",
            "|  4|  10|   0|\n",
            "|  5|  15|   8|\n",
            "+---+----+----+\n",
            "only showing top 5 rows\n",
            "\n"
          ]
        }
      ]
    },
    {
      "cell_type": "code",
      "source": [
        "#python\n",
        "\n",
        "df.select(df[\"id\"],df[\"sc_h\"], df[\"sc_w\"]).show(5)"
      ],
      "metadata": {
        "colab": {
          "base_uri": "https://localhost:8080/"
        },
        "id": "LtUCvlW0AWUX",
        "outputId": "103176df-d3a2-46e5-9000-6d17dff9547a"
      },
      "execution_count": 31,
      "outputs": [
        {
          "output_type": "stream",
          "name": "stdout",
          "text": [
            "+---+----+----+\n",
            "| id|sc_h|sc_w|\n",
            "+---+----+----+\n",
            "|  1|  12|   7|\n",
            "|  2|   6|   0|\n",
            "|  3|  17|  10|\n",
            "|  4|  10|   0|\n",
            "|  5|  15|   8|\n",
            "+---+----+----+\n",
            "only showing top 5 rows\n",
            "\n"
          ]
        }
      ]
    },
    {
      "cell_type": "code",
      "source": [
        "# Используем пакет function\n",
        "import pyspark.sql.functions as F\n",
        "\n",
        "df.select(F.col(\"id\"), F.col(\"sc_h\"), F.col(\"sc_w\")).show(5)"
      ],
      "metadata": {
        "colab": {
          "base_uri": "https://localhost:8080/"
        },
        "id": "ze_U_wDGAyFj",
        "outputId": "c1b6058c-eecd-47ba-a705-e13012c1190d"
      },
      "execution_count": 32,
      "outputs": [
        {
          "output_type": "stream",
          "name": "stdout",
          "text": [
            "+---+----+----+\n",
            "| id|sc_h|sc_w|\n",
            "+---+----+----+\n",
            "|  1|  12|   7|\n",
            "|  2|   6|   0|\n",
            "|  3|  17|  10|\n",
            "|  4|  10|   0|\n",
            "|  5|  15|   8|\n",
            "+---+----+----+\n",
            "only showing top 5 rows\n",
            "\n"
          ]
        }
      ]
    },
    {
      "cell_type": "code",
      "source": [
        "#Фильтрация по одному условию"
      ],
      "metadata": {
        "id": "0s2jWKybDdMl"
      },
      "execution_count": 42,
      "outputs": []
    },
    {
      "cell_type": "code",
      "source": [
        "df.filter(\"sc_h >= 16\").show(5)"
      ],
      "metadata": {
        "colab": {
          "base_uri": "https://localhost:8080/"
        },
        "id": "H6XCvP-JBZqX",
        "outputId": "bb05c5af-db1f-4182-8da0-0b7be8c1ddef"
      },
      "execution_count": 43,
      "outputs": [
        {
          "output_type": "stream",
          "name": "stdout",
          "text": [
            "+---+-------------+----+-----------+--------+---+------+----------+-----+---------+-------+---+---------+--------+----+----+----+---------+-------+------------+----+\n",
            "| id|battery_power|blue|clock_speed|dual_sim| fc|four_g|int_memory|m_dep|mobile_wt|n_cores| pc|px_height|px_width| ram|sc_h|sc_w|talk_time|three_g|touch_screen|wifi|\n",
            "+---+-------------+----+-----------+--------+---+------+----------+-----+---------+-------+---+---------+--------+----+----+----+---------+-------+------------+----+\n",
            "|  3|         1807|   1|        2.8|       0|  1|     0|        27|  0.9|      186|      3|  4|     1270|    1366|2396|  17|  10|       10|      0|           1|   1|\n",
            "| 15|          630|   0|        1.8|       0|  8|     1|        51|  0.9|      193|      8|  9|     1315|    1323|2751|  17|   6|        3|      1|           1|   0|\n",
            "| 19|         1231|   1|        1.7|       1|  2|     1|        37|  0.2|      194|      2|  3|       82|    1771|3902|  19|  12|       15|      1|           0|   1|\n",
            "| 23|         1558|   0|        1.7|       1|  7|     0|        50|  0.1|      115|      2| 10|      777|    1587|1641|  17|   0|        9|      0|           1|   1|\n",
            "| 24|          533|   1|        0.7|       1| 16|     0|        58|  0.8|       97|      5| 18|      512|    1111|2322|  17|   3|        2|      0|           1|   0|\n",
            "+---+-------------+----+-----------+--------+---+------+----------+-----+---------+-------+---+---------+--------+----+----+----+---------+-------+------------+----+\n",
            "only showing top 5 rows\n",
            "\n"
          ]
        }
      ]
    },
    {
      "cell_type": "code",
      "source": [
        "df.select(\"sc_h\").filter(\"sc_h >= 16\").show(5)"
      ],
      "metadata": {
        "colab": {
          "base_uri": "https://localhost:8080/"
        },
        "id": "uaP-GzIaBZzg",
        "outputId": "56c58d7a-0643-41bb-e2cd-7260db87ad34"
      },
      "execution_count": 44,
      "outputs": [
        {
          "output_type": "stream",
          "name": "stdout",
          "text": [
            "+----+\n",
            "|sc_h|\n",
            "+----+\n",
            "|  17|\n",
            "|  17|\n",
            "|  19|\n",
            "|  17|\n",
            "|  17|\n",
            "+----+\n",
            "only showing top 5 rows\n",
            "\n"
          ]
        }
      ]
    },
    {
      "cell_type": "code",
      "source": [
        "#Фильтрация по нескольким условиям"
      ],
      "metadata": {
        "id": "Ow1wYwvFBZ2k"
      },
      "execution_count": 45,
      "outputs": []
    },
    {
      "cell_type": "code",
      "source": [
        "df.select(\"sc_h\", \"sc_w\").filter(\"sc_h >= 16 and sc_w >= 9\").show(5)"
      ],
      "metadata": {
        "colab": {
          "base_uri": "https://localhost:8080/"
        },
        "id": "x15JhlWnDqaz",
        "outputId": "42d8d371-6a35-43ed-9af2-7f77d787db0d"
      },
      "execution_count": 47,
      "outputs": [
        {
          "output_type": "stream",
          "name": "stdout",
          "text": [
            "+----+----+\n",
            "|sc_h|sc_w|\n",
            "+----+----+\n",
            "|  17|  10|\n",
            "|  19|  12|\n",
            "|  16|  11|\n",
            "|  17|  11|\n",
            "|  18|  13|\n",
            "+----+----+\n",
            "only showing top 5 rows\n",
            "\n"
          ]
        }
      ]
    },
    {
      "cell_type": "code",
      "source": [
        "df\\\n",
        ".select(\"sc_h\", \"sc_w\")\\\n",
        ".filter(\"sc_h >= 16\")\\\n",
        ".filter(\"sc_w >= 9\")\\\n",
        ".show()"
      ],
      "metadata": {
        "colab": {
          "base_uri": "https://localhost:8080/"
        },
        "id": "ZH8JknAeDqdw",
        "outputId": "c797933c-c39c-4d95-f06e-f24d4d8aa9db"
      },
      "execution_count": 49,
      "outputs": [
        {
          "output_type": "stream",
          "name": "stdout",
          "text": [
            "+----+----+\n",
            "|sc_h|sc_w|\n",
            "+----+----+\n",
            "|  17|  10|\n",
            "|  19|  12|\n",
            "|  16|  11|\n",
            "|  17|  11|\n",
            "|  18|  13|\n",
            "|  17|  16|\n",
            "|  17|  14|\n",
            "|  18|  15|\n",
            "|  17|  13|\n",
            "|  18|  10|\n",
            "|  19|  11|\n",
            "|  19|  17|\n",
            "|  18|  14|\n",
            "|  17|  15|\n",
            "|  18|  17|\n",
            "|  16|  10|\n",
            "|  18|   9|\n",
            "|  18|  15|\n",
            "|  19|  15|\n",
            "|  17|   9|\n",
            "+----+----+\n",
            "only showing top 20 rows\n",
            "\n"
          ]
        }
      ]
    },
    {
      "cell_type": "code",
      "source": [
        "# Методом col()"
      ],
      "metadata": {
        "id": "0_Lh28iLDqje"
      },
      "execution_count": null,
      "outputs": []
    },
    {
      "cell_type": "code",
      "source": [
        "df\\\n",
        ".select(\"sc_h\", \"sc_w\")\\\n",
        ".filter(F.col(\"sc_h\") >= 16)\\\n",
        ".filter(F.col(\"sc_w\") >= 9)\\\n",
        ".show()"
      ],
      "metadata": {
        "colab": {
          "base_uri": "https://localhost:8080/"
        },
        "id": "5mqn2ePmDqmc",
        "outputId": "538f50b7-3bc8-4765-e31f-9ad815053579"
      },
      "execution_count": 55,
      "outputs": [
        {
          "output_type": "stream",
          "name": "stdout",
          "text": [
            "+----+----+\n",
            "|sc_h|sc_w|\n",
            "+----+----+\n",
            "|  17|  10|\n",
            "|  19|  12|\n",
            "|  16|  11|\n",
            "|  17|  11|\n",
            "|  18|  13|\n",
            "|  17|  16|\n",
            "|  17|  14|\n",
            "|  18|  15|\n",
            "|  17|  13|\n",
            "|  18|  10|\n",
            "|  19|  11|\n",
            "|  19|  17|\n",
            "|  18|  14|\n",
            "|  17|  15|\n",
            "|  18|  17|\n",
            "|  16|  10|\n",
            "|  18|   9|\n",
            "|  18|  15|\n",
            "|  19|  15|\n",
            "|  17|   9|\n",
            "+----+----+\n",
            "only showing top 20 rows\n",
            "\n"
          ]
        }
      ]
    },
    {
      "cell_type": "code",
      "source": [
        "df\\\n",
        ".select(\"sc_h\", \"sc_w\")\\\n",
        ".filter(F.col(\"sc_h\") == 16)\\\n",
        ".filter(F.col(\"sc_w\") == 9)\\\n",
        ".show()"
      ],
      "metadata": {
        "colab": {
          "base_uri": "https://localhost:8080/"
        },
        "id": "JDFg5bbgDqpw",
        "outputId": "a3807350-2fea-4816-afca-fca7f5f3c9ac"
      },
      "execution_count": 56,
      "outputs": [
        {
          "output_type": "stream",
          "name": "stdout",
          "text": [
            "+----+----+\n",
            "|sc_h|sc_w|\n",
            "+----+----+\n",
            "|  16|   9|\n",
            "|  16|   9|\n",
            "+----+----+\n",
            "\n"
          ]
        }
      ]
    },
    {
      "cell_type": "code",
      "source": [
        "df\\\n",
        ".select(\"sc_h\", \"sc_w\")\\\n",
        ".filter(F.col(\"sc_h\") >= 16)\\\n",
        ".filter(F.col(\"sc_w\") >= 9)\\\n",
        ".show()"
      ],
      "metadata": {
        "colab": {
          "base_uri": "https://localhost:8080/"
        },
        "id": "6iYG_TDgHMu9",
        "outputId": "597e8bc6-1a40-41d7-acee-5b37c5b2b6dc"
      },
      "execution_count": 57,
      "outputs": [
        {
          "output_type": "stream",
          "name": "stdout",
          "text": [
            "+----+----+\n",
            "|sc_h|sc_w|\n",
            "+----+----+\n",
            "|  17|  10|\n",
            "|  19|  12|\n",
            "|  16|  11|\n",
            "|  17|  11|\n",
            "|  18|  13|\n",
            "|  17|  16|\n",
            "|  17|  14|\n",
            "|  18|  15|\n",
            "|  17|  13|\n",
            "|  18|  10|\n",
            "|  19|  11|\n",
            "|  19|  17|\n",
            "|  18|  14|\n",
            "|  17|  15|\n",
            "|  18|  17|\n",
            "|  16|  10|\n",
            "|  18|   9|\n",
            "|  18|  15|\n",
            "|  19|  15|\n",
            "|  17|   9|\n",
            "+----+----+\n",
            "only showing top 20 rows\n",
            "\n"
          ]
        }
      ]
    },
    {
      "cell_type": "code",
      "source": [
        "#Считаем общее кол-во строк\n",
        "df.count()"
      ],
      "metadata": {
        "colab": {
          "base_uri": "https://localhost:8080/"
        },
        "id": "hrDfRVgwHg3D",
        "outputId": "2df12d56-b53f-452d-92d0-c785def13239"
      },
      "execution_count": 58,
      "outputs": [
        {
          "output_type": "execute_result",
          "data": {
            "text/plain": [
              "1000"
            ]
          },
          "metadata": {},
          "execution_count": 58
        }
      ]
    },
    {
      "cell_type": "code",
      "source": [
        "#Считаем уникальные строки\n",
        "df.distinct().count()"
      ],
      "metadata": {
        "colab": {
          "base_uri": "https://localhost:8080/"
        },
        "id": "xgFGH1TPHl8b",
        "outputId": "303a062a-32b9-485c-c5a2-8209119e735c"
      },
      "execution_count": 60,
      "outputs": [
        {
          "output_type": "execute_result",
          "data": {
            "text/plain": [
              "1000"
            ]
          },
          "metadata": {},
          "execution_count": 60
        }
      ]
    },
    {
      "cell_type": "code",
      "source": [
        "#ЛИБО\n",
        "\n",
        "\n",
        "df.select(\"sc_h\").distinct().count()"
      ],
      "metadata": {
        "colab": {
          "base_uri": "https://localhost:8080/"
        },
        "id": "X_ftrX3vH1AE",
        "outputId": "5601b05b-edc4-40e6-e981-14958c85dca4"
      },
      "execution_count": 63,
      "outputs": [
        {
          "output_type": "execute_result",
          "data": {
            "text/plain": [
              "15"
            ]
          },
          "metadata": {},
          "execution_count": 63
        }
      ]
    },
    {
      "cell_type": "code",
      "source": [
        "#Группировка и аггрегация"
      ],
      "metadata": {
        "id": "KdUadbXbIelt"
      },
      "execution_count": 64,
      "outputs": []
    },
    {
      "cell_type": "code",
      "source": [
        "df.groupBy(\"sc_h\").count().show(5)"
      ],
      "metadata": {
        "colab": {
          "base_uri": "https://localhost:8080/"
        },
        "id": "o3an4wJeIl1a",
        "outputId": "63cd86f1-355c-45c2-d933-1e8583ef0d1b"
      },
      "execution_count": 69,
      "outputs": [
        {
          "output_type": "stream",
          "name": "stdout",
          "text": [
            "+----+-----+\n",
            "|sc_h|count|\n",
            "+----+-----+\n",
            "|   7|   61|\n",
            "|  15|   72|\n",
            "|  11|   69|\n",
            "|   8|   67|\n",
            "|  16|   65|\n",
            "+----+-----+\n",
            "only showing top 5 rows\n",
            "\n"
          ]
        }
      ]
    },
    {
      "cell_type": "code",
      "source": [
        "#сортировка по id\n",
        "\n",
        "\n",
        "df.groupBy(\"sc_h\").count().orderBy(\"count\").show(5)"
      ],
      "metadata": {
        "colab": {
          "base_uri": "https://localhost:8080/"
        },
        "id": "Mu2kX4UCIl4S",
        "outputId": "64e38c0e-b76f-495e-c0f6-bf1df4009d4d"
      },
      "execution_count": 72,
      "outputs": [
        {
          "output_type": "stream",
          "name": "stdout",
          "text": [
            "+----+-----+\n",
            "|sc_h|count|\n",
            "+----+-----+\n",
            "|  10|   56|\n",
            "|  18|   59|\n",
            "|   7|   61|\n",
            "|   6|   62|\n",
            "|  19|   64|\n",
            "+----+-----+\n",
            "only showing top 5 rows\n",
            "\n"
          ]
        }
      ]
    },
    {
      "cell_type": "code",
      "source": [
        "df.select(\"id\",\"sc_h\", \"sc_w\").show(5)"
      ],
      "metadata": {
        "colab": {
          "base_uri": "https://localhost:8080/"
        },
        "id": "0MdCAtiPIl7M",
        "outputId": "7d43b634-38b2-4d1a-f568-eaf7d5fa3b92"
      },
      "execution_count": 74,
      "outputs": [
        {
          "output_type": "stream",
          "name": "stdout",
          "text": [
            "+---+----+----+\n",
            "| id|sc_h|sc_w|\n",
            "+---+----+----+\n",
            "|  1|  12|   7|\n",
            "|  2|   6|   0|\n",
            "|  3|  17|  10|\n",
            "|  4|  10|   0|\n",
            "|  5|  15|   8|\n",
            "+---+----+----+\n",
            "only showing top 5 rows\n",
            "\n"
          ]
        }
      ]
    },
    {
      "cell_type": "code",
      "source": [
        "df\\\n",
        ".select(\"id\",\"sc_h\", \"sc_w\")\\\n",
        ".filter(F.col(\"sc_h\") >= 16)\\\n",
        ".filter(F.col(\"sc_w\") >= 9)\\\n",
        ".groupBy(F.col(\"id\"),F.col(\"sc_h\"),F.col(\"sc_w\"))\\\n",
        ".count()\\\n",
        ".show()"
      ],
      "metadata": {
        "colab": {
          "base_uri": "https://localhost:8080/"
        },
        "id": "P9WtmoOtIl-f",
        "outputId": "4dfa6a03-dca2-4204-9734-1825ad0c6056"
      },
      "execution_count": 94,
      "outputs": [
        {
          "output_type": "stream",
          "name": "stdout",
          "text": [
            "+---+----+----+-----+\n",
            "| id|sc_h|sc_w|count|\n",
            "+---+----+----+-----+\n",
            "|534|  16|  11|    1|\n",
            "|610|  18|   9|    1|\n",
            "|876|  18|  15|    1|\n",
            "|379|  17|  16|    1|\n",
            "|175|  19|  10|    1|\n",
            "|321|  18|  13|    1|\n",
            "|905|  19|  11|    1|\n",
            "|309|  16|   9|    1|\n",
            "|408|  17|  15|    1|\n",
            "|455|  17|   9|    1|\n",
            "|454|  16|  10|    1|\n",
            "|716|  18|  14|    1|\n",
            "|733|  17|  12|    1|\n",
            "|440|  16|  10|    1|\n",
            "| 33|  17|  11|    1|\n",
            "|112|  17|  15|    1|\n",
            "| 37|  17|  16|    1|\n",
            "|235|  16|  13|    1|\n",
            "|552|  17|   9|    1|\n",
            "|647|  19|  18|    1|\n",
            "+---+----+----+-----+\n",
            "only showing top 20 rows\n",
            "\n"
          ]
        }
      ]
    },
    {
      "cell_type": "code",
      "source": [
        "df\\\n",
        ".select(\"id\",\"sc_h\", \"sc_w\")\\\n",
        ".filter(F.col(\"sc_h\") >= 16)\\\n",
        ".filter(F.col(\"sc_w\") >= 9)\\\n",
        ".groupBy(F.col(\"id\"),F.col(\"sc_h\"),F.col(\"sc_w\"))\\\n",
        ".count()\\\n",
        ".orderBy(F.col(\"id\"))\\\n",
        ".show()"
      ],
      "metadata": {
        "colab": {
          "base_uri": "https://localhost:8080/"
        },
        "id": "KN7LICIbMG85",
        "outputId": "1da5686a-df85-4dca-c83a-4eddfcb0d9d7"
      },
      "execution_count": 98,
      "outputs": [
        {
          "output_type": "stream",
          "name": "stdout",
          "text": [
            "+---+----+----+-----+\n",
            "| id|sc_h|sc_w|count|\n",
            "+---+----+----+-----+\n",
            "|111|  18|  14|    1|\n",
            "|112|  17|  15|    1|\n",
            "|114|  18|  17|    1|\n",
            "|118|  16|  10|    1|\n",
            "|136|  18|   9|    1|\n",
            "|144|  18|  15|    1|\n",
            "|149|  19|  15|    1|\n",
            "|161|  17|   9|    1|\n",
            "|162|  19|  14|    1|\n",
            "|163|  17|  15|    1|\n",
            "|165|  19|  18|    1|\n",
            "|175|  19|  10|    1|\n",
            "|177|  18|   9|    1|\n",
            "|180|  16|  12|    1|\n",
            "| 19|  19|  12|    1|\n",
            "|198|  19|  10|    1|\n",
            "|202|  16|  14|    1|\n",
            "|211|  17|  16|    1|\n",
            "|226|  17|  10|    1|\n",
            "|235|  16|  13|    1|\n",
            "+---+----+----+-----+\n",
            "only showing top 20 rows\n",
            "\n"
          ]
        }
      ]
    },
    {
      "cell_type": "code",
      "source": [
        "#Сортируем по убыванию #desc #asc\n",
        "df\\\n",
        ".select(\"id\",\"sc_h\", \"sc_w\")\\\n",
        ".filter(F.col(\"sc_h\") >= 16)\\\n",
        ".filter(F.col(\"sc_w\") >= 9)\\\n",
        ".groupBy(F.col(\"id\"),F.col(\"sc_h\"),F.col(\"sc_w\"))\\\n",
        ".count()\\\n",
        ".orderBy(F.col(\"id\").asc())\\\n",
        ".show()"
      ],
      "metadata": {
        "colab": {
          "base_uri": "https://localhost:8080/"
        },
        "id": "Ffr2ni2iPn30",
        "outputId": "cd4c7cd9-d22c-436f-cb9e-1805b6c5878f"
      },
      "execution_count": 102,
      "outputs": [
        {
          "output_type": "stream",
          "name": "stdout",
          "text": [
            "+---+----+----+-----+\n",
            "| id|sc_h|sc_w|count|\n",
            "+---+----+----+-----+\n",
            "|111|  18|  14|    1|\n",
            "|112|  17|  15|    1|\n",
            "|114|  18|  17|    1|\n",
            "|118|  16|  10|    1|\n",
            "|136|  18|   9|    1|\n",
            "|144|  18|  15|    1|\n",
            "|149|  19|  15|    1|\n",
            "|161|  17|   9|    1|\n",
            "|162|  19|  14|    1|\n",
            "|163|  17|  15|    1|\n",
            "|165|  19|  18|    1|\n",
            "|175|  19|  10|    1|\n",
            "|177|  18|   9|    1|\n",
            "|180|  16|  12|    1|\n",
            "| 19|  19|  12|    1|\n",
            "|198|  19|  10|    1|\n",
            "|202|  16|  14|    1|\n",
            "|211|  17|  16|    1|\n",
            "|226|  17|  10|    1|\n",
            "|235|  16|  13|    1|\n",
            "+---+----+----+-----+\n",
            "only showing top 20 rows\n",
            "\n"
          ]
        }
      ]
    },
    {
      "cell_type": "code",
      "source": [
        "# Переименование\n",
        "df\\\n",
        ".withColumnRenamed(\"id\", \"login\")\\\n",
        ".select(\"login\")\\\n",
        ".show(5)"
      ],
      "metadata": {
        "colab": {
          "base_uri": "https://localhost:8080/"
        },
        "id": "mSP24SVhQJNB",
        "outputId": "0caf916b-8d34-4e27-93b6-9c27f44d9ff3"
      },
      "execution_count": 105,
      "outputs": [
        {
          "output_type": "stream",
          "name": "stdout",
          "text": [
            "+-----+\n",
            "|login|\n",
            "+-----+\n",
            "|    1|\n",
            "|    2|\n",
            "|    3|\n",
            "|    4|\n",
            "|    5|\n",
            "+-----+\n",
            "only showing top 5 rows\n",
            "\n"
          ]
        }
      ]
    },
    {
      "cell_type": "code",
      "source": [
        "df\\\n",
        ".withColumn(\"sc_h * 1000\",F.col(\"sc_h\") * 100)\\\n",
        ".select(\"sc_h\", \"sc_h * 1000\")\\\n",
        ".show(5)"
      ],
      "metadata": {
        "colab": {
          "base_uri": "https://localhost:8080/"
        },
        "id": "k0CkdoPgQuEh",
        "outputId": "619bfbf4-9c24-4cc9-a1c8-5b20156e8846"
      },
      "execution_count": 107,
      "outputs": [
        {
          "output_type": "stream",
          "name": "stdout",
          "text": [
            "+----+-----------+\n",
            "|sc_h|sc_h * 1000|\n",
            "+----+-----------+\n",
            "|  12|     1200.0|\n",
            "|   6|      600.0|\n",
            "|  17|     1700.0|\n",
            "|  10|     1000.0|\n",
            "|  15|     1500.0|\n",
            "+----+-----------+\n",
            "only showing top 5 rows\n",
            "\n"
          ]
        }
      ]
    },
    {
      "cell_type": "code",
      "source": [
        "df.printSchema()"
      ],
      "metadata": {
        "colab": {
          "base_uri": "https://localhost:8080/"
        },
        "id": "gcBdd2nmR2zQ",
        "outputId": "224fc0e9-cf87-4154-ab4d-ebe35de2b1e1"
      },
      "execution_count": 108,
      "outputs": [
        {
          "output_type": "stream",
          "name": "stdout",
          "text": [
            "root\n",
            " |-- id: string (nullable = true)\n",
            " |-- battery_power: string (nullable = true)\n",
            " |-- blue: string (nullable = true)\n",
            " |-- clock_speed: string (nullable = true)\n",
            " |-- dual_sim: string (nullable = true)\n",
            " |-- fc: string (nullable = true)\n",
            " |-- four_g: string (nullable = true)\n",
            " |-- int_memory: string (nullable = true)\n",
            " |-- m_dep: string (nullable = true)\n",
            " |-- mobile_wt: string (nullable = true)\n",
            " |-- n_cores: string (nullable = true)\n",
            " |-- pc: string (nullable = true)\n",
            " |-- px_height: string (nullable = true)\n",
            " |-- px_width: string (nullable = true)\n",
            " |-- ram: string (nullable = true)\n",
            " |-- sc_h: string (nullable = true)\n",
            " |-- sc_w: string (nullable = true)\n",
            " |-- talk_time: string (nullable = true)\n",
            " |-- three_g: string (nullable = true)\n",
            " |-- touch_screen: string (nullable = true)\n",
            " |-- wifi: string (nullable = true)\n",
            "\n"
          ]
        }
      ]
    },
    {
      "cell_type": "code",
      "source": [
        "# Describe как на python\n",
        "\n",
        "df\\\n",
        ".select(F.col(\"id\"))\\\n",
        ".describe()\\\n",
        ".show()"
      ],
      "metadata": {
        "colab": {
          "base_uri": "https://localhost:8080/"
        },
        "id": "g0hwJCPeR22H",
        "outputId": "c66958ed-5026-4554-e5ee-585057aa4e28"
      },
      "execution_count": 114,
      "outputs": [
        {
          "output_type": "stream",
          "name": "stdout",
          "text": [
            "+-------+-----------------+\n",
            "|summary|               id|\n",
            "+-------+-----------------+\n",
            "|  count|             1000|\n",
            "|   mean|            500.5|\n",
            "| stddev|288.8194360957494|\n",
            "|    min|                1|\n",
            "|    max|              999|\n",
            "+-------+-----------------+\n",
            "\n"
          ]
        }
      ]
    },
    {
      "cell_type": "code",
      "source": [
        "spark.stop()"
      ],
      "metadata": {
        "id": "18f3k4jjS1wB"
      },
      "execution_count": 115,
      "outputs": []
    }
  ]
}