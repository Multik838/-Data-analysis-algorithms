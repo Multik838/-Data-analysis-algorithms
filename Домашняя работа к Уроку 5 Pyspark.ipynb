{
  "nbformat": 4,
  "nbformat_minor": 0,
  "metadata": {
    "colab": {
      "name": "Копия блокнота \"Урок 5. HW. wf_udf_joins\"",
      "provenance": [],
      "collapsed_sections": [],
      "include_colab_link": true
    },
    "kernelspec": {
      "name": "python3",
      "display_name": "Python 3"
    },
    "language_info": {
      "name": "python"
    }
  },
  "cells": [
    {
      "cell_type": "markdown",
      "metadata": {
        "id": "view-in-github",
        "colab_type": "text"
      },
      "source": [
        "<a href=\"https://colab.research.google.com/github/Multik838/-Data-analysis-algorithms/blob/main/%D0%94%D0%BE%D0%BC%D0%B0%D1%88%D0%BD%D1%8F%D1%8F%20%D1%80%D0%B0%D0%B1%D0%BE%D1%82%D0%B0%20%D0%BA%20%D0%A3%D1%80%D0%BE%D0%BA%D1%83%205%20Pyspark.ipynb\" target=\"_parent\"><img src=\"https://colab.research.google.com/assets/colab-badge.svg\" alt=\"Open In Colab\"/></a>"
      ]
    },
    {
      "cell_type": "code",
      "metadata": {
        "colab": {
          "base_uri": "https://localhost:8080/"
        },
        "id": "W5AsCKO5Nqsh",
        "outputId": "850c211c-e052-4aa0-c71f-92aeaaf3903c"
      },
      "source": [
        "!pip install pyspark"
      ],
      "execution_count": 1,
      "outputs": [
        {
          "output_type": "stream",
          "name": "stdout",
          "text": [
            "Looking in indexes: https://pypi.org/simple, https://us-python.pkg.dev/colab-wheels/public/simple/\n",
            "Collecting pyspark\n",
            "  Downloading pyspark-3.2.1.tar.gz (281.4 MB)\n",
            "\u001b[K     |████████████████████████████████| 281.4 MB 35 kB/s \n",
            "\u001b[?25hCollecting py4j==0.10.9.3\n",
            "  Downloading py4j-0.10.9.3-py2.py3-none-any.whl (198 kB)\n",
            "\u001b[K     |████████████████████████████████| 198 kB 34.2 MB/s \n",
            "\u001b[?25hBuilding wheels for collected packages: pyspark\n",
            "  Building wheel for pyspark (setup.py) ... \u001b[?25l\u001b[?25hdone\n",
            "  Created wheel for pyspark: filename=pyspark-3.2.1-py2.py3-none-any.whl size=281853642 sha256=63d6e454014a6d5a31bab35260b250c7d28b577c615aee0bed3968e73c8f45ef\n",
            "  Stored in directory: /root/.cache/pip/wheels/9f/f5/07/7cd8017084dce4e93e84e92efd1e1d5334db05f2e83bcef74f\n",
            "Successfully built pyspark\n",
            "Installing collected packages: py4j, pyspark\n",
            "Successfully installed py4j-0.10.9.3 pyspark-3.2.1\n"
          ]
        }
      ]
    },
    {
      "cell_type": "code",
      "metadata": {
        "id": "E3Q9g_UyNxS6"
      },
      "source": [
        "from pyspark.sql import SparkSession\n",
        "\n",
        "spark = SparkSession.builder\\\n",
        "    .master(\"local[2]\")\\\n",
        "    .appName(\"Lesson_2\")\\\n",
        "    .config(\"spark.executor.instances\",2)\\\n",
        "    .config(\"spark.executor.memory\",'2g')\\\n",
        "    .config(\"spark.executor.cores\",1)\\\n",
        "    .getOrCreate()\n",
        "sc = spark.sparkContext"
      ],
      "execution_count": 2,
      "outputs": []
    },
    {
      "cell_type": "markdown",
      "metadata": {
        "id": "dVGNGR7pN1KC"
      },
      "source": [
        "# Самостоятельная работа к уроку 3\n",
        "На уроке мы попробовали оконные и пользовательские функции. Теперь закрепим полученные знания."
      ]
    },
    {
      "cell_type": "markdown",
      "metadata": {
        "id": "agigNChqOHnK"
      },
      "source": [
        "## Данные: [google drive: raw_sales.csv](https://drive.google.com/file/d/1G2N7Mnt4-Tqz4JdJxutGDMbJiOr32kZp/view?usp=sharing)\n",
        "\n",
        " Каждая строчка это продажа жилья, которая состоит из следующих полей (думаю описание не требуется):\n",
        "*   date of sale\n",
        "*   price\n",
        "*   property type\n",
        "*   number of bedrooms\n",
        "*   4digit postcode"
      ]
    },
    {
      "cell_type": "code",
      "source": [
        "from google.colab import drive\n",
        "drive.mount('/content/drive')\n",
        "\n",
        "raw_sales = spark.read.format('csv').option('header', 'True').load('/content/raw_sales.csv') "
      ],
      "metadata": {
        "id": "H2fVbiqQfS5x",
        "outputId": "ac71239b-a13d-4e14-9d8a-b44f51fe52db",
        "colab": {
          "base_uri": "https://localhost:8080/"
        }
      },
      "execution_count": 3,
      "outputs": [
        {
          "output_type": "stream",
          "name": "stdout",
          "text": [
            "Mounted at /content/drive\n"
          ]
        }
      ]
    },
    {
      "cell_type": "code",
      "source": [
        "#df = spark.read.csv('raw_sales.csv', inferShema=True, header=True)"
      ],
      "metadata": {
        "id": "KglOJh8xClkz"
      },
      "execution_count": null,
      "outputs": []
    },
    {
      "cell_type": "code",
      "source": [
        "raw_sales.show(1)"
      ],
      "metadata": {
        "id": "7rsiJA9jft5i",
        "outputId": "611cc1ad-9c3c-4e58-cab2-55ab39a254d5",
        "colab": {
          "base_uri": "https://localhost:8080/"
        }
      },
      "execution_count": 28,
      "outputs": [
        {
          "output_type": "stream",
          "name": "stdout",
          "text": [
            "+-------------------+--------+------+------------+--------+\n",
            "|           datesold|postcode| price|propertyType|bedrooms|\n",
            "+-------------------+--------+------+------------+--------+\n",
            "|2007-02-07 00:00:00|    2607|525000|       house|       4|\n",
            "+-------------------+--------+------+------------+--------+\n",
            "only showing top 1 row\n",
            "\n"
          ]
        }
      ]
    },
    {
      "cell_type": "code",
      "source": [
        ""
      ],
      "metadata": {
        "id": "2QyJ40n0hg4U"
      },
      "execution_count": null,
      "outputs": []
    },
    {
      "cell_type": "code",
      "source": [
        "#Импортируем необходимые библиотеки\n",
        "import pyspark.sql.functions as F\n",
        "from pyspark.sql import Window\n",
        "from pyspark.sql.types import *\n",
        "from pyspark.sql.functions import max as max_\n",
        "from pyspark.sql.functions import row_number\n",
        "from pyspark.sql.functions import concat"
      ],
      "metadata": {
        "id": "GFjfzhpngAq2"
      },
      "execution_count": 52,
      "outputs": []
    },
    {
      "cell_type": "code",
      "source": [
        "df = raw_sales.withColumn(\"id\", row_number().over(Window.partitionBy().orderBy(\"datesold\"))).alias(\"id\")"
      ],
      "metadata": {
        "id": "L9fAm7Ovhp5Y"
      },
      "execution_count": 53,
      "outputs": []
    },
    {
      "cell_type": "code",
      "source": [
        "df.show(2)"
      ],
      "metadata": {
        "colab": {
          "base_uri": "https://localhost:8080/"
        },
        "id": "9KKZ8lrshtYc",
        "outputId": "488dc392-c967-4788-ec27-63e66c589e9b"
      },
      "execution_count": 54,
      "outputs": [
        {
          "output_type": "stream",
          "name": "stdout",
          "text": [
            "+-------------------+--------+------+------------+--------+---+\n",
            "|           datesold|postcode| price|propertyType|bedrooms| id|\n",
            "+-------------------+--------+------+------------+--------+---+\n",
            "|2007-02-07 00:00:00|    2607|525000|       house|       4|  1|\n",
            "|2007-02-27 00:00:00|    2906|290000|       house|       3|  2|\n",
            "+-------------------+--------+------+------------+--------+---+\n",
            "only showing top 2 rows\n",
            "\n"
          ]
        }
      ]
    },
    {
      "cell_type": "code",
      "source": [
        "#Делаем конкатенационный уникальный ключ"
      ],
      "metadata": {
        "id": "a2qri32qlmPy"
      },
      "execution_count": 57,
      "outputs": []
    },
    {
      "cell_type": "code",
      "source": [
        "df1 = df.select(F.col('datesold'),F.col('postcode'),F.col('price'),F.col('propertyType'),F.col('bedrooms'),(concat(F.col('postcode'), F.year('datesold'), F.col('bedrooms'), F.col('id')).alias('key'))).alias('key_value')"
      ],
      "metadata": {
        "id": "eIklW1-IiUhM"
      },
      "execution_count": 69,
      "outputs": []
    },
    {
      "cell_type": "markdown",
      "metadata": {
        "id": "xisyFowtQgx-"
      },
      "source": [
        "## Задание 1\n",
        "Добавьте к таблице следующие поля:\n",
        "*  Средняя стомость 10 проданных домов до текущего в том же районе (4digit postcode) (1 балл)\n",
        "*  Средняя стомость 10 проданных домов после текущего в том же районе (4digit postcode) (1 балл)\n",
        "*  Стоимость последнего проданного дома до текущего (1 балл)\n"
      ]
    },
    {
      "cell_type": "code",
      "metadata": {
        "id": "NsUKEiRTUOtT"
      },
      "source": [
        "windSpec_10before = Window()\\\n",
        "    .partitionBy('postcode')\\\n",
        "    .orderBy('datesold') \\\n",
        "    .rowsBetween(Window.currentRow - 11, Window.currentRow - 1)"
      ],
      "execution_count": 70,
      "outputs": []
    },
    {
      "cell_type": "code",
      "source": [
        "df1.withColumn('Средняя стомость 10 проданных домов до текущего в том же районе', F.avg('price').over(windSpec_10before)).show(5)"
      ],
      "metadata": {
        "id": "0GQUC01AD6G_",
        "outputId": "fd7ddf0b-23c9-40b2-e93f-6dd5c690ab4c",
        "colab": {
          "base_uri": "https://localhost:8080/"
        }
      },
      "execution_count": 71,
      "outputs": [
        {
          "output_type": "stream",
          "name": "stdout",
          "text": [
            "+-------------------+--------+------+------------+--------+------------+---------------------------------------------------------------+\n",
            "|           datesold|postcode| price|propertyType|bedrooms|         key|Средняя стомость 10 проданных домов до текущего в том же районе|\n",
            "+-------------------+--------+------+------------+--------+------------+---------------------------------------------------------------+\n",
            "|2007-07-08 00:00:00|    2600|327000|       house|       1| 26002007122|                                                           null|\n",
            "|2007-08-16 00:00:00|    2600|790000|       house|       4| 26002007446|                                                       327000.0|\n",
            "|2007-12-05 00:00:00|    2600|825000|       house|       3|260020073129|                                                       558500.0|\n",
            "|2008-01-21 00:00:00|    2600|315000|        unit|       1|260020081156|                                              647333.3333333334|\n",
            "|2008-04-24 00:00:00|    2600|292500|       house|       1|260020081210|                                                       564250.0|\n",
            "+-------------------+--------+------+------------+--------+------------+---------------------------------------------------------------+\n",
            "only showing top 5 rows\n",
            "\n"
          ]
        }
      ]
    },
    {
      "cell_type": "code",
      "source": [
        "AVGbefore = df1.withColumn('Средняя стомость 10 проданных домов до текущего в том же районе', F.avg('price').over(windSpec_10before)).alias('Before')"
      ],
      "metadata": {
        "id": "FRLOVMQ9gUMB"
      },
      "execution_count": 72,
      "outputs": []
    },
    {
      "cell_type": "code",
      "source": [
        "AVGbefore.show()"
      ],
      "metadata": {
        "colab": {
          "base_uri": "https://localhost:8080/"
        },
        "id": "wA_Xb-AEgFq_",
        "outputId": "479a5db9-00b2-44d4-f046-1f1eb2132619"
      },
      "execution_count": 73,
      "outputs": [
        {
          "output_type": "stream",
          "name": "stdout",
          "text": [
            "+-------------------+--------+-------+------------+--------+------------+---------------------------------------------------------------+\n",
            "|           datesold|postcode|  price|propertyType|bedrooms|         key|Средняя стомость 10 проданных домов до текущего в том же районе|\n",
            "+-------------------+--------+-------+------------+--------+------------+---------------------------------------------------------------+\n",
            "|2007-07-08 00:00:00|    2600| 327000|       house|       1| 26002007122|                                                           null|\n",
            "|2007-08-16 00:00:00|    2600| 790000|       house|       4| 26002007446|                                                       327000.0|\n",
            "|2007-12-05 00:00:00|    2600| 825000|       house|       3|260020073129|                                                       558500.0|\n",
            "|2008-01-21 00:00:00|    2600| 315000|        unit|       1|260020081156|                                              647333.3333333334|\n",
            "|2008-04-24 00:00:00|    2600| 292500|       house|       1|260020081210|                                                       564250.0|\n",
            "|2008-05-30 00:00:00|    2600| 329000|        unit|       2|260020082233|                                                       509900.0|\n",
            "|2008-06-19 00:00:00|    2600| 765000|       house|       5|260020085251|                                                       479750.0|\n",
            "|2008-07-29 00:00:00|    2600| 927000|       house|       4|260020084296|                                                       520500.0|\n",
            "|2008-09-02 00:00:00|    2600|1380000|       house|       5|260020085353|                                                       571312.5|\n",
            "|2008-09-08 00:00:00|    2600| 740000|       house|       3|260020083365|                                              661166.6666666666|\n",
            "|2008-09-17 00:00:00|    2600| 720000|       house|       3|260020083385|                                                       669050.0|\n",
            "|2008-09-22 00:00:00|    2600| 690000|       house|       4|260020084411|                                              673681.8181818182|\n",
            "|2008-11-18 00:00:00|    2600| 635000|       house|       3|260020083581|                                              706681.8181818182|\n",
            "|2008-11-18 00:00:00|    2600| 950000|       house|       3|260020083582|                                              692590.9090909091|\n",
            "|2008-11-21 00:00:00|    2600| 730000|       house|       3|260020083596|                                              703954.5454545454|\n",
            "|2008-12-22 00:00:00|    2600| 855000|       house|       3|260020083761|                                              741681.8181818182|\n",
            "|2008-12-24 00:00:00|    2600|1057500|       house|       4|260020084784|                                              792818.1818181818|\n",
            "|2009-01-06 00:00:00|    2600| 300000|        unit|       2|260020092791|                                              859045.4545454546|\n",
            "|2009-01-12 00:00:00|    2600| 475000|        unit|       2|260020092811|                                              816772.7272727273|\n",
            "|2009-01-20 00:00:00|    2600|1150000|       house|       4|260020094835|                                              775681.8181818182|\n",
            "+-------------------+--------+-------+------------+--------+------------+---------------------------------------------------------------+\n",
            "only showing top 20 rows\n",
            "\n"
          ]
        }
      ]
    },
    {
      "cell_type": "code",
      "source": [
        "windSpec_10after = Window()\\\n",
        "    .partitionBy('postcode')\\\n",
        "    .orderBy('datesold') \\\n",
        "    .rowsBetween(Window.currentRow - 10, Window.currentRow - 0)"
      ],
      "metadata": {
        "id": "fqyrTNjfFmII"
      },
      "execution_count": 74,
      "outputs": []
    },
    {
      "cell_type": "code",
      "source": [
        "df2 = AVGbefore.withColumn('Средняя стомость 10 проданных домов после текущего в том же районе', F.avg('price').over(windSpec_10after)).alias('After')"
      ],
      "metadata": {
        "id": "j6cWG_GUF0cp"
      },
      "execution_count": 76,
      "outputs": []
    },
    {
      "cell_type": "code",
      "source": [
        "df2.show(10)"
      ],
      "metadata": {
        "colab": {
          "base_uri": "https://localhost:8080/"
        },
        "id": "RSsa6ueUm0Wr",
        "outputId": "26c3056c-ab3c-4b5b-93fa-c39a2a46cefb"
      },
      "execution_count": 77,
      "outputs": [
        {
          "output_type": "stream",
          "name": "stdout",
          "text": [
            "+-------------------+--------+-------+------------+--------+------------+---------------------------------------------------------------+------------------------------------------------------------------+\n",
            "|           datesold|postcode|  price|propertyType|bedrooms|         key|Средняя стомость 10 проданных домов до текущего в том же районе|Средняя стомость 10 проданных домов после текущего в том же районе|\n",
            "+-------------------+--------+-------+------------+--------+------------+---------------------------------------------------------------+------------------------------------------------------------------+\n",
            "|2007-07-08 00:00:00|    2600| 327000|       house|       1| 26002007122|                                                           null|                                                          327000.0|\n",
            "|2007-08-16 00:00:00|    2600| 790000|       house|       4| 26002007446|                                                       327000.0|                                                          558500.0|\n",
            "|2007-12-05 00:00:00|    2600| 825000|       house|       3|260020073129|                                                       558500.0|                                                 647333.3333333334|\n",
            "|2008-01-21 00:00:00|    2600| 315000|        unit|       1|260020081156|                                              647333.3333333334|                                                          564250.0|\n",
            "|2008-04-24 00:00:00|    2600| 292500|       house|       1|260020081210|                                                       564250.0|                                                          509900.0|\n",
            "|2008-05-30 00:00:00|    2600| 329000|        unit|       2|260020082233|                                                       509900.0|                                                          479750.0|\n",
            "|2008-06-19 00:00:00|    2600| 765000|       house|       5|260020085251|                                                       479750.0|                                                          520500.0|\n",
            "|2008-07-29 00:00:00|    2600| 927000|       house|       4|260020084296|                                                       520500.0|                                                          571312.5|\n",
            "|2008-09-02 00:00:00|    2600|1380000|       house|       5|260020085353|                                                       571312.5|                                                 661166.6666666666|\n",
            "|2008-09-08 00:00:00|    2600| 740000|       house|       3|260020083365|                                              661166.6666666666|                                                          669050.0|\n",
            "+-------------------+--------+-------+------------+--------+------------+---------------------------------------------------------------+------------------------------------------------------------------+\n",
            "only showing top 10 rows\n",
            "\n"
          ]
        }
      ]
    },
    {
      "cell_type": "code",
      "source": [
        "#Ищем дату по типу собственности дом"
      ],
      "metadata": {
        "id": "5kLSztCFfEov"
      },
      "execution_count": 10,
      "outputs": []
    },
    {
      "cell_type": "code",
      "source": [
        "filter = (df2.select('propertyType', 'datesold')\\\n",
        ".filter('propertyType = \"house\"')\\\n",
        ".groupBy('propertyType')\n",
        ".agg(max_('datesold')))\n",
        "\n",
        "filter.show()"
      ],
      "metadata": {
        "id": "MHGR_OmTcpbN",
        "outputId": "17c458e5-2820-4cf0-a91f-23ebf8028e9a",
        "colab": {
          "base_uri": "https://localhost:8080/"
        }
      },
      "execution_count": 78,
      "outputs": [
        {
          "output_type": "stream",
          "name": "stdout",
          "text": [
            "+------------+-------------------+\n",
            "|propertyType|      max(datesold)|\n",
            "+------------+-------------------+\n",
            "|       house|2019-07-27 00:00:00|\n",
            "+------------+-------------------+\n",
            "\n"
          ]
        }
      ]
    },
    {
      "cell_type": "code",
      "source": [
        "#Выводим район, цена, дата, тип собственности"
      ],
      "metadata": {
        "id": "jYcdbFnqfMPE"
      },
      "execution_count": 79,
      "outputs": []
    },
    {
      "cell_type": "code",
      "source": [
        "df2.select('price', 'propertyType','datesold','postcode')\\\n",
        ".filter('propertyType = \"house\"')\\\n",
        ".filter('datesold = \"2019-07-27 00:00:00\"')\\\n",
        ".orderBy('postcode','price')\\\n",
        ".show()"
      ],
      "metadata": {
        "id": "79n4vUtMdwAF",
        "outputId": "b809c5d9-326d-41cc-aeda-4fa36f867c02",
        "colab": {
          "base_uri": "https://localhost:8080/"
        }
      },
      "execution_count": 81,
      "outputs": [
        {
          "output_type": "stream",
          "name": "stdout",
          "text": [
            "+------+------------+-------------------+--------+\n",
            "| price|propertyType|           datesold|postcode|\n",
            "+------+------------+-------------------+--------+\n",
            "|647500|       house|2019-07-27 00:00:00|    2615|\n",
            "|610000|       house|2019-07-27 00:00:00|    2905|\n",
            "|865000|       house|2019-07-27 00:00:00|    2905|\n",
            "+------+------------+-------------------+--------+\n",
            "\n"
          ]
        }
      ]
    },
    {
      "cell_type": "markdown",
      "metadata": {
        "id": "SoKJ_YOBUQGL"
      },
      "source": [
        "## Задание 2\n",
        "Найдите среднюю цену жилья для каждого года и приджойните эти данные к таблице из задания 1. (2 балла)\n",
        "\n",
        "\n",
        "*(left join on a.year(date of sale) = b.year, где a - таблица из первого задания, а b таблица после группировки)*"
      ]
    },
    {
      "cell_type": "code",
      "source": [
        "df = spark.read.csv('raw_sales.csv', inferSchema=True, header=True)"
      ],
      "metadata": {
        "id": "LGNnXL57oxti"
      },
      "execution_count": 96,
      "outputs": []
    },
    {
      "cell_type": "code",
      "source": [
        "df = raw_sales.withColumn(\"id\", row_number().over(Window.partitionBy().orderBy(\"datesold\"))).alias(\"id\")"
      ],
      "metadata": {
        "id": "bbi-2JSroZLn"
      },
      "execution_count": 97,
      "outputs": []
    },
    {
      "cell_type": "code",
      "source": [
        "df1 = df.select(F.col('datesold'),F.col('postcode'),F.col('price'),F.col('propertyType'),F.col('bedrooms'),(concat(F.col('postcode'), F.year('datesold'), F.col('bedrooms'), F.col('id')).alias('key1'))).alias('key_value')"
      ],
      "metadata": {
        "id": "owVNFlFqoQPQ"
      },
      "execution_count": 98,
      "outputs": []
    },
    {
      "cell_type": "code",
      "source": [
        "windSpec_10before = Window()\\\n",
        "    .partitionBy('postcode')\\\n",
        "    .orderBy('datesold') \\\n",
        "    .rowsBetween(Window.currentRow - 11, Window.currentRow - 1)\n",
        "\n",
        "df3 = df1.withColumn('Средняя стомость 10 проданных домов до текущего в том же районе', F.avg('price').over(windSpec_10before)).groupBy(F.year('datesold').alias('mydate')).avg().alias('3')"
      ],
      "metadata": {
        "id": "YP_Im1IvitYM"
      },
      "execution_count": 130,
      "outputs": []
    },
    {
      "cell_type": "code",
      "source": [
        "df3.show()"
      ],
      "metadata": {
        "colab": {
          "base_uri": "https://localhost:8080/"
        },
        "id": "i-HyyjVVpVbq",
        "outputId": "cf47fb8f-a878-4e0a-fc59-bbe13adef638"
      },
      "execution_count": 131,
      "outputs": [
        {
          "output_type": "stream",
          "name": "stdout",
          "text": [
            "+------+--------------------------------------------------------------------+\n",
            "|mydate|avg(Средняя стомость 10 проданных домов до текущего в том же районе)|\n",
            "+------+--------------------------------------------------------------------+\n",
            "|  2007|                                                    528000.663522985|\n",
            "|  2018|                                                   662131.1444630345|\n",
            "|  2015|                                                   625357.9271082528|\n",
            "|  2013|                                                   553300.4587375164|\n",
            "|  2014|                                                   591913.2451338394|\n",
            "|  2019|                                                   638559.3694125371|\n",
            "|  2012|                                                   552709.1321352071|\n",
            "|  2009|                                                    493777.933589782|\n",
            "|  2016|                                                   634018.3807153263|\n",
            "|  2010|                                                   556676.5828945828|\n",
            "|  2011|                                                   564728.5215946223|\n",
            "|  2008|                                                  498968.36233211274|\n",
            "|  2017|                                                   670779.2343553832|\n",
            "+------+--------------------------------------------------------------------+\n",
            "\n"
          ]
        }
      ]
    },
    {
      "cell_type": "markdown",
      "metadata": {
        "id": "Qvh2x6_8YU3F"
      },
      "source": [
        "## Задание 3\n",
        "В итоге у вас таблица с колонками (или нечто похожее):\n",
        "*   price\n",
        "*   Среднегодовая цена\n",
        "*  Средняя стомость 10 проданных домов до текущего в том же районе (4digit postcode) (1 балл)\n",
        "*  Средняя стомость 10 проданных домов после текущего в том же районе (4digit postcode) (1 балл)\n",
        "*  Стоимость последнего проданного дома до текущего ((1 балл)\n",
        "*  и др.\n",
        "\n",
        "Посчитайте кол-во уникальных значений в каждой строчке (unique(row)). (2 балла)"
      ]
    },
    {
      "cell_type": "code",
      "source": [
        "df4 = df2.select(F.col('datesold'),F.col('postcode'),F.col('price'),F.col('propertyType'),F.col('bedrooms')\\\n",
        ",F.col('key'),F.col('Средняя стомость 10 проданных домов до текущего в том же районе') ,F.col('Средняя стомость 10 проданных домов после текущего в том же районе') ,F.year('datesold').alias('mydata')).alias('year') "
      ],
      "metadata": {
        "id": "Crpa8aqmfmtS"
      },
      "execution_count": 128,
      "outputs": []
    },
    {
      "cell_type": "code",
      "source": [
        "df4.show(2)"
      ],
      "metadata": {
        "colab": {
          "base_uri": "https://localhost:8080/"
        },
        "id": "LSBtDEb8q4ez",
        "outputId": "f2d58e25-4689-4152-d605-f886e101955b"
      },
      "execution_count": 129,
      "outputs": [
        {
          "output_type": "stream",
          "name": "stdout",
          "text": [
            "+-------------------+--------+------+------------+--------+-----------+---------------------------------------------------------------+------------------------------------------------------------------+------+\n",
            "|           datesold|postcode| price|propertyType|bedrooms|        key|Средняя стомость 10 проданных домов до текущего в том же районе|Средняя стомость 10 проданных домов после текущего в том же районе|mydata|\n",
            "+-------------------+--------+------+------------+--------+-----------+---------------------------------------------------------------+------------------------------------------------------------------+------+\n",
            "|2007-07-08 00:00:00|    2600|327000|       house|       1|26002007122|                                                           null|                                                          327000.0|  2007|\n",
            "|2007-08-16 00:00:00|    2600|790000|       house|       4|26002007446|                                                       327000.0|                                                          558500.0|  2007|\n",
            "+-------------------+--------+------+------------+--------+-----------+---------------------------------------------------------------+------------------------------------------------------------------+------+\n",
            "only showing top 2 rows\n",
            "\n"
          ]
        }
      ]
    },
    {
      "cell_type": "code",
      "source": [
        "df3.show(2)"
      ],
      "metadata": {
        "colab": {
          "base_uri": "https://localhost:8080/"
        },
        "id": "J4lj3CQ-q7s8",
        "outputId": "b655802c-f31e-431f-ae87-4f2268296ab8"
      },
      "execution_count": 116,
      "outputs": [
        {
          "output_type": "stream",
          "name": "stdout",
          "text": [
            "+--------------+--------------------------------------------------------------------+\n",
            "|year(datesold)|avg(Средняя стомость 10 проданных домов до текущего в том же районе)|\n",
            "+--------------+--------------------------------------------------------------------+\n",
            "|          2007|                                                    528000.663522985|\n",
            "|          2018|                                                   662131.1444630345|\n",
            "+--------------+--------------------------------------------------------------------+\n",
            "only showing top 2 rows\n",
            "\n"
          ]
        }
      ]
    },
    {
      "cell_type": "code",
      "source": [
        "df3.select(F.col('year(datesold)')).show(2)"
      ],
      "metadata": {
        "colab": {
          "base_uri": "https://localhost:8080/"
        },
        "id": "WZrVlSH9ruOG",
        "outputId": "502da5d6-4282-401a-c9e2-8cbc63451c23"
      },
      "execution_count": 125,
      "outputs": [
        {
          "output_type": "stream",
          "name": "stdout",
          "text": [
            "+--------------+\n",
            "|year(datesold)|\n",
            "+--------------+\n",
            "|          2007|\n",
            "|          2018|\n",
            "+--------------+\n",
            "only showing top 2 rows\n",
            "\n"
          ]
        }
      ]
    },
    {
      "cell_type": "code",
      "source": [
        "df7 = df4.join(df3, df3.mydate == df4.mydata, 'outer').alias('join')"
      ],
      "metadata": {
        "id": "cEV1KcdkqfSU"
      },
      "execution_count": 141,
      "outputs": []
    },
    {
      "cell_type": "code",
      "source": [
        "df7.show(2)"
      ],
      "metadata": {
        "colab": {
          "base_uri": "https://localhost:8080/"
        },
        "id": "xdqaxAeEtaMh",
        "outputId": "d542392c-dead-43f8-b60b-6f926ecbfd2e"
      },
      "execution_count": 142,
      "outputs": [
        {
          "output_type": "stream",
          "name": "stdout",
          "text": [
            "+-------------------+--------+------+------------+--------+-----------+---------------------------------------------------------------+------------------------------------------------------------------+------+------+--------------------------------------------------------------------+\n",
            "|           datesold|postcode| price|propertyType|bedrooms|        key|Средняя стомость 10 проданных домов до текущего в том же районе|Средняя стомость 10 проданных домов после текущего в том же районе|mydata|mydate|avg(Средняя стомость 10 проданных домов до текущего в том же районе)|\n",
            "+-------------------+--------+------+------------+--------+-----------+---------------------------------------------------------------+------------------------------------------------------------------+------+------+--------------------------------------------------------------------+\n",
            "|2007-07-08 00:00:00|    2600|327000|       house|       1|26002007122|                                                           null|                                                          327000.0|  2007|  2007|                                                    528000.663522985|\n",
            "|2007-08-16 00:00:00|    2600|790000|       house|       4|26002007446|                                                       327000.0|                                                          558500.0|  2007|  2007|                                                    528000.663522985|\n",
            "+-------------------+--------+------+------------+--------+-----------+---------------------------------------------------------------+------------------------------------------------------------------+------+------+--------------------------------------------------------------------+\n",
            "only showing top 2 rows\n",
            "\n"
          ]
        }
      ]
    },
    {
      "cell_type": "code",
      "metadata": {
        "id": "qFBmC9gvNyzl",
        "outputId": "c5249f18-38d9-43c2-f755-b8f0e1cf3182",
        "colab": {
          "base_uri": "https://localhost:8080/"
        }
      },
      "source": [
        "@F.udf(returnType=IntegerType())\n",
        "def nunique(row):\n",
        "    return len(set(row))\n",
        "\n",
        "\n",
        "df7.withColumn('nunique', nunique(F.array('*'))).show()"
      ],
      "execution_count": 143,
      "outputs": [
        {
          "output_type": "stream",
          "name": "stdout",
          "text": [
            "+-------------------+--------+------+------------+--------+------------+---------------------------------------------------------------+------------------------------------------------------------------+------+------+--------------------------------------------------------------------+-------+\n",
            "|           datesold|postcode| price|propertyType|bedrooms|         key|Средняя стомость 10 проданных домов до текущего в том же районе|Средняя стомость 10 проданных домов после текущего в том же районе|mydata|mydate|avg(Средняя стомость 10 проданных домов до текущего в том же районе)|nunique|\n",
            "+-------------------+--------+------+------------+--------+------------+---------------------------------------------------------------+------------------------------------------------------------------+------+------+--------------------------------------------------------------------+-------+\n",
            "|2007-07-08 00:00:00|    2600|327000|       house|       1| 26002007122|                                                           null|                                                          327000.0|  2007|  2007|                                                    528000.663522985|     10|\n",
            "|2007-08-16 00:00:00|    2600|790000|       house|       4| 26002007446|                                                       327000.0|                                                          558500.0|  2007|  2007|                                                    528000.663522985|     10|\n",
            "|2007-12-05 00:00:00|    2600|825000|       house|       3|260020073129|                                                       558500.0|                                                 647333.3333333334|  2007|  2007|                                                    528000.663522985|     10|\n",
            "|2007-07-07 00:00:00|    2602|900000|       house|       4| 26022007421|                                                           null|                                                          900000.0|  2007|  2007|                                                    528000.663522985|     10|\n",
            "|2007-07-12 00:00:00|    2602|427500|       house|       3| 26022007323|                                                       900000.0|                                                          663750.0|  2007|  2007|                                                    528000.663522985|     10|\n",
            "|2007-07-13 00:00:00|    2602|780000|       house|       3| 26022007324|                                                       663750.0|                                                          702500.0|  2007|  2007|                                                    528000.663522985|     10|\n",
            "|2007-07-18 00:00:00|    2602|530000|       house|       3| 26022007325|                                                       702500.0|                                                          659375.0|  2007|  2007|                                                    528000.663522985|     10|\n",
            "|2007-07-18 00:00:00|    2602|590000|       house|       3| 26022007326|                                                       659375.0|                                                          645500.0|  2007|  2007|                                                    528000.663522985|     10|\n",
            "|2007-08-10 00:00:00|    2602|545500|       house|       3| 26022007341|                                                       645500.0|                                                 628833.3333333334|  2007|  2007|                                                    528000.663522985|     10|\n",
            "|2007-08-10 00:00:00|    2602|760000|       house|       3| 26022007342|                                              628833.3333333334|                                                 647571.4285714285|  2007|  2007|                                                    528000.663522985|     10|\n",
            "|2007-08-11 00:00:00|    2602|520000|       house|       3| 26022007343|                                              647571.4285714285|                                                          631625.0|  2007|  2007|                                                    528000.663522985|     10|\n",
            "|2007-08-29 00:00:00|    2602|599000|       house|       3| 26022007354|                                                       631625.0|                                                          628000.0|  2007|  2007|                                                    528000.663522985|     10|\n",
            "|2007-09-07 00:00:00|    2602|400000|        unit|       2| 26022007263|                                                       628000.0|                                                          605200.0|  2007|  2007|                                                    528000.663522985|     10|\n",
            "|2007-09-18 00:00:00|    2602|470000|       house|       3| 26022007366|                                                       605200.0|                                                 592909.0909090909|  2007|  2007|                                                    528000.663522985|     10|\n",
            "|2007-09-22 00:00:00|    2602|500000|       house|       4| 26022007471|                                              592909.0909090909|                                                 556545.4545454546|  2007|  2007|                                                    528000.663522985|     10|\n",
            "|2007-09-22 00:00:00|    2602|506000|       house|       4| 26022007472|                                              556545.4545454546|                                                 563681.8181818182|  2007|  2007|                                                    528000.663522985|     10|\n",
            "|2007-10-24 00:00:00|    2602|505000|       house|       3| 26022007393|                                              563681.8181818182|                                                 538681.8181818182|  2007|  2007|                                                    528000.663522985|     10|\n",
            "|2007-10-25 00:00:00|    2602|135500|       house|       1| 26022007194|                                              538681.8181818182|                                                 502818.1818181818|  2007|  2007|                                                    528000.663522985|     10|\n",
            "|2007-11-08 00:00:00|    2602|497000|       house|       2|260220072105|                                              502818.1818181818|                                                494363.63636363635|  2007|  2007|                                                    528000.663522985|     10|\n",
            "|2007-11-30 00:00:00|    2602|425000|       house|       3|260220073123|                                             494363.63636363635|                                                 483409.0909090909|  2007|  2007|                                                    528000.663522985|     10|\n",
            "+-------------------+--------+------+------------+--------+------------+---------------------------------------------------------------+------------------------------------------------------------------+------+------+--------------------------------------------------------------------+-------+\n",
            "only showing top 20 rows\n",
            "\n"
          ]
        }
      ]
    }
  ]
}